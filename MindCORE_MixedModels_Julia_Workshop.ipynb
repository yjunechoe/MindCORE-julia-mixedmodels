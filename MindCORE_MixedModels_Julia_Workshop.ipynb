{
  "nbformat": 4,
  "nbformat_minor": 0,
  "metadata": {
    "colab": {
      "provenance": []
    },
    "kernelspec": {
      "display_name": "Julia",
      "language": "julia",
      "name": "julia"
    },
    "language_info": {
      "file_extension": ".jl",
      "mimetype": "application/julia",
      "name": "julia"
    },
    "gpuClass": "standard"
  },
  "cells": [
    {
      "cell_type": "markdown",
      "source": [
        "# Julia MixedModels.jl workshop @ MindCORE\n",
        "\n",
        "June Choe\n",
        "\n",
        "12/01/2023\n",
        "\n",
        "A [MindCORE workshop](https://mindcore.sas.upenn.edu/calendar_event/workshop-introduction-to-mixed-effects-models-in-julia/)\n",
        "\n",
        "https://tinyurl.com/mindcore-mixedmodels-jl"
      ],
      "metadata": {
        "id": "puvAqBO28TjS"
      }
    },
    {
      "cell_type": "markdown",
      "source": [
        "## What is this workshop about?\n",
        "\n",
        "It's about two things:\n",
        "\n",
        "[Julia](https://julialang.org/): A (relatively modern; 5 years since [v1.0](https://julialang.org/blog/2018/08/one-point-zero/)) programming language for scientific computing. The \"ju\" part of \"**ju**pyter notebook\".\n",
        "\n",
        "[MixedModels.jl](https://github.com/JuliaStats/MixedModels.jl): A successor to R's [lme4](https://cran.r-project.org/web/packages/lme4/index.html) in Julia that has been (rather silently?) developing for the last decade."
      ],
      "metadata": {
        "id": "FeBRcx6Lp9be"
      }
    },
    {
      "cell_type": "markdown",
      "metadata": {
        "id": "tQ1r1bbb0yBv"
      },
      "source": [
        "## Who is this workshop for?\n",
        "\n",
        "1) You regularly use R and mixed-effects models for research\n",
        "\n",
        "2) Your models sometimes (if not often) fail to converge :(\n",
        "\n",
        "3) You're bothered by (2) enough to try something better/different, but not enough to learn an entire new programming language ([Julia](https://julialang.org/)) and its toolkits (ex: VSCode).\n",
        "\n",
        "4) You've maybe even heard of Julia and/or MixedModels.jl before, and are intrigued by the more modern and powerful approach to working with mixed effects models, including:\n",
        "\n",
        "- [Simulation-based power analysis](https://repsychling.github.io/MixedModelsSim.jl/stable/simulation_tutorial/)\n",
        "\n",
        "- [Parametric bootstrapping](https://repsychling.github.io/SMLP2023/bootstrap.html)\n",
        "\n",
        "- [New ways of visualizing model diagnostics](https://palday.github.io/MixedModelsMakie.jl/dev/api/)\n"
      ]
    },
    {
      "cell_type": "markdown",
      "source": [
        "## What will we cover in this workshop?\n",
        "\n",
        "None of the fancy stuff I just mentioned. Instead, we'll focus more on the practical side of fitting mixed models in Julia while leveraging our existing experience with R/RStudio/lme4. The goal is to come out of this workshop with *just enough* knowledge (and a taste of what you're getting into) so that we're able to explore the more exciting things on our own."
      ],
      "metadata": {
        "id": "Mbrelcqm8ap0"
      }
    },
    {
      "cell_type": "markdown",
      "source": [
        "## Why am I (June) the one giving this workshop?\n",
        "\n",
        "I'm probably not the most qualified person to teach Julia. But I did attend a workshop a few months ago ([SMLP 2023](https://repsychling.github.io/SMLP2023/)) taught by people who do know how, so I'm more of a messenger trying to spread the good word."
      ],
      "metadata": {
        "id": "6ZPOCNYY8cX3"
      }
    },
    {
      "cell_type": "markdown",
      "source": [
        "# 1) Setup\n",
        "\n",
        "First, **copy the notebook to your google drive**. Follow the below instructions for setting up.\n",
        "\n",
        "_Expect around 10 minutes for all setup code to run._"
      ],
      "metadata": {
        "id": "2RMKlv1KAx-d"
      }
    },
    {
      "cell_type": "markdown",
      "source": [
        "## 1a) Install Julia to Colab\n",
        "\n",
        "Run the following long code block _once_. This should take around 3 minutes.\n",
        "\n",
        "Once it completes with a \"successfully installed\" message, refresh (Ctrl/Cmd + R) the page and move onto (1b)."
      ],
      "metadata": {
        "id": "JjqUjhpSAzBq"
      }
    },
    {
      "cell_type": "code",
      "metadata": {
        "id": "GIeFXS0F0zww",
        "colab": {
          "base_uri": "https://localhost:8080/"
        },
        "outputId": "ff7e881d-3e22-4071-97d0-c7ffaebf8cd3"
      },
      "source": [
        "%%shell\n",
        "set -e\n",
        "\n",
        "#---------------------------------------------------#\n",
        "JULIA_VERSION=\"1.9.4\"\n",
        "JULIA_PACKAGES=\"IJulia ProgressMeter\"\n",
        "JULIA_NUM_THREADS=2\n",
        "#---------------------------------------------------#\n",
        "\n",
        "if [ -z `which julia` ]; then\n",
        "  # Install Julia\n",
        "  JULIA_VER=`cut -d '.' -f -2 <<< \"$JULIA_VERSION\"`\n",
        "  echo \"Installing Julia $JULIA_VERSION on the current Colab Runtime...\"\n",
        "  BASE_URL=\"https://julialang-s3.julialang.org/bin/linux/x64\"\n",
        "  URL=\"$BASE_URL/$JULIA_VER/julia-$JULIA_VERSION-linux-x86_64.tar.gz\"\n",
        "  wget -nv $URL -O /tmp/julia.tar.gz # -nv means \"not verbose\"\n",
        "  tar -x -f /tmp/julia.tar.gz -C /usr/local --strip-components 1\n",
        "  rm /tmp/julia.tar.gz\n",
        "\n",
        "  # Install Packages\n",
        "  nvidia-smi -L &> /dev/null && export GPU=1 || export GPU=0\n",
        "  for PKG in `echo $JULIA_PACKAGES`; do\n",
        "    echo \"Installing Julia package $PKG...\"\n",
        "    julia -e 'using Pkg; pkg\"add '$PKG'; precompile;\"' &> /dev/null\n",
        "  done\n",
        "\n",
        "  # Install kernel and rename it to \"julia\"\n",
        "  echo \"Installing IJulia kernel...\"\n",
        "  julia -e 'using IJulia; IJulia.installkernel(\"julia\", env=Dict(\n",
        "      \"JULIA_NUM_THREADS\"=>\"'\"$JULIA_NUM_THREADS\"'\"))'\n",
        "  KERNEL_DIR=`julia -e \"using IJulia; print(IJulia.kerneldir())\"`\n",
        "  KERNEL_NAME=`ls -d \"$KERNEL_DIR\"/julia*`\n",
        "  mv -f $KERNEL_NAME \"$KERNEL_DIR\"/julia\n",
        "\n",
        "  echo ''\n",
        "  echo \"Successfully installed `julia -v`!\"\n",
        "  echo \"Please reload this page (press Ctrl+R, ⌘+R, or the F5 key)\"\n",
        "fi"
      ],
      "execution_count": null,
      "outputs": [
        {
          "output_type": "stream",
          "name": "stdout",
          "text": [
            "Installing Julia 1.9.4 on the current Colab Runtime...\n",
            "2023-12-02 00:51:35 URL:https://storage.googleapis.com/julialang2/bin/linux/x64/1.9/julia-1.9.4-linux-x86_64.tar.gz [146163887/146163887] -> \"/tmp/julia.tar.gz\" [1]\n",
            "Installing Julia package IJulia...\n",
            "Installing Julia package ProgressMeter...\n",
            "Installing IJulia kernel...\n",
            "\u001b[36m\u001b[1m[ \u001b[22m\u001b[39m\u001b[36m\u001b[1mInfo: \u001b[22m\u001b[39mInstalling julia kernelspec in /root/.local/share/jupyter/kernels/julia-1.9\n",
            "\n",
            "Successfully installed julia version 1.9.4!\n",
            "Please reload this page (press Ctrl+R, ⌘+R, or the F5 key)\n"
          ]
        },
        {
          "output_type": "execute_result",
          "data": {
            "text/plain": []
          },
          "metadata": {},
          "execution_count": 1
        }
      ]
    },
    {
      "cell_type": "markdown",
      "source": [
        "_Above setup code adopted from the [Julia Colab Notebook Template](https://colab.research.google.com/github/ageron/julia_notebooks/blob/master/Julia_Colab_Notebook_Template.ipynb): see the link for additional troubleshooting._"
      ],
      "metadata": {
        "id": "htIwXDCEp6WJ"
      }
    },
    {
      "cell_type": "markdown",
      "source": [
        "## 1b) Install MixedModels.jl & extras\n",
        "\n",
        "Takes around 5-7 minutes."
      ],
      "metadata": {
        "id": "QICEwrK8A587"
      }
    },
    {
      "cell_type": "code",
      "source": [
        "using Pkg\n",
        "Pkg.add(\"MixedModels\")\n",
        "# We'll also be using these other packages for reading/manipulating data:\n",
        "Pkg.add(\"CSV\")\n",
        "Pkg.add(\"DataFrames\")"
      ],
      "metadata": {
        "colab": {
          "base_uri": "https://localhost:8080/"
        },
        "id": "sE7RTeK-BASb",
        "outputId": "d0364dbf-8b8e-4825-e236-703f0e15d582"
      },
      "execution_count": null,
      "outputs": [
        {
          "output_type": "stream",
          "name": "stderr",
          "text": [
            "\u001b[32m\u001b[1m    Updating\u001b[22m\u001b[39m registry at `~/.julia/registries/General.toml`\n",
            "\u001b[32m\u001b[1m   Resolving\u001b[22m\u001b[39m package versions...\n",
            "\u001b[32m\u001b[1m   Installed\u001b[22m\u001b[39m Calculus ──────────────────── v0.5.1\n",
            "\u001b[32m\u001b[1m   Installed\u001b[22m\u001b[39m IrrationalConstants ───────── v0.2.2\n",
            "\u001b[32m\u001b[1m   Installed\u001b[22m\u001b[39m DualNumbers ───────────────── v0.6.8\n",
            "\u001b[32m\u001b[1m   Installed\u001b[22m\u001b[39m NLopt_jll ─────────────────── v2.7.1+0\n",
            "\u001b[32m\u001b[1m   Installed\u001b[22m\u001b[39m Adapt ─────────────────────── v3.7.1\n",
            "\u001b[32m\u001b[1m   Installed\u001b[22m\u001b[39m Rmath ─────────────────────── v0.7.1\n",
            "\u001b[32m\u001b[1m   Installed\u001b[22m\u001b[39m Scratch ───────────────────── v1.2.1\n",
            "\u001b[32m\u001b[1m   Installed\u001b[22m\u001b[39m HypergeometricFunctions ───── v0.3.23\n",
            "\u001b[32m\u001b[1m   Installed\u001b[22m\u001b[39m Zstd_jll ──────────────────── v1.5.5+0\n",
            "\u001b[32m\u001b[1m   Installed\u001b[22m\u001b[39m StatsFuns ─────────────────── v1.3.0\n",
            "\u001b[32m\u001b[1m   Installed\u001b[22m\u001b[39m JSON3 ─────────────────────── v1.13.2\n",
            "\u001b[32m\u001b[1m   Installed\u001b[22m\u001b[39m NLopt ─────────────────────── v1.0.0\n",
            "\u001b[32m\u001b[1m   Installed\u001b[22m\u001b[39m TableTraits ───────────────── v1.0.1\n",
            "\u001b[32m\u001b[1m   Installed\u001b[22m\u001b[39m BandedMatrices ────────────── v1.2.1\n",
            "\u001b[32m\u001b[1m   Installed\u001b[22m\u001b[39m Arrow ─────────────────────── v2.6.2\n",
            "\u001b[32m\u001b[1m   Installed\u001b[22m\u001b[39m LoggingExtras ─────────────── v1.0.3\n",
            "\u001b[32m\u001b[1m   Installed\u001b[22m\u001b[39m Mocking ───────────────────── v0.7.7\n",
            "\u001b[32m\u001b[1m   Installed\u001b[22m\u001b[39m SentinelArrays ────────────── v1.4.1\n",
            "\u001b[32m\u001b[1m   Installed\u001b[22m\u001b[39m IfElse ────────────────────── v0.1.1\n",
            "\u001b[32m\u001b[1m   Installed\u001b[22m\u001b[39m TypedTables ───────────────── v1.4.3\n",
            "\u001b[32m\u001b[1m   Installed\u001b[22m\u001b[39m Tables ────────────────────── v1.11.1\n",
            "\u001b[32m\u001b[1m   Installed\u001b[22m\u001b[39m FastGaussQuadrature ───────── v1.0.0\n",
            "\u001b[32m\u001b[1m   Installed\u001b[22m\u001b[39m SpecialFunctions ──────────── v2.3.1\n",
            "\u001b[32m\u001b[1m   Installed\u001b[22m\u001b[39m TimeZones ─────────────────── v1.13.0\n",
            "\u001b[32m\u001b[1m   Installed\u001b[22m\u001b[39m PDMats ────────────────────── v0.11.30\n",
            "\u001b[32m\u001b[1m   Installed\u001b[22m\u001b[39m ArrowTypes ────────────────── v2.2.2\n",
            "\u001b[32m\u001b[1m   Installed\u001b[22m\u001b[39m SplitApplyCombine ─────────── v1.2.2\n",
            "\u001b[32m\u001b[1m   Installed\u001b[22m\u001b[39m DataAPI ───────────────────── v1.15.0\n",
            "\u001b[32m\u001b[1m   Installed\u001b[22m\u001b[39m PooledArrays ──────────────── v1.4.3\n",
            "\u001b[32m\u001b[1m   Installed\u001b[22m\u001b[39m InlineStrings ─────────────── v1.4.0\n",
            "\u001b[32m\u001b[1m   Installed\u001b[22m\u001b[39m Dictionaries ──────────────── v0.3.25\n",
            "\u001b[32m\u001b[1m   Installed\u001b[22m\u001b[39m BSplineKit ────────────────── v0.16.5\n",
            "\u001b[32m\u001b[1m   Installed\u001b[22m\u001b[39m DataValueInterfaces ───────── v1.0.0\n",
            "\u001b[32m\u001b[1m   Installed\u001b[22m\u001b[39m StaticArraysCore ──────────── v1.4.2\n",
            "\u001b[32m\u001b[1m   Installed\u001b[22m\u001b[39m NaNMath ───────────────────── v1.0.2\n",
            "\u001b[32m\u001b[1m   Installed\u001b[22m\u001b[39m IteratorInterfaceExtensions ─ v1.0.0\n",
            "\u001b[32m\u001b[1m   Installed\u001b[22m\u001b[39m ConcurrentUtilities ───────── v2.3.0\n",
            "\u001b[32m\u001b[1m   Installed\u001b[22m\u001b[39m OrderedCollections ────────── v1.6.3\n",
            "\u001b[32m\u001b[1m   Installed\u001b[22m\u001b[39m TZJData ───────────────────── v1.0.0+2023c\n",
            "\u001b[32m\u001b[1m   Installed\u001b[22m\u001b[39m StaticArrays ──────────────── v1.7.0\n",
            "\u001b[32m\u001b[1m   Installed\u001b[22m\u001b[39m EnumX ─────────────────────── v1.0.4\n",
            "\u001b[32m\u001b[1m   Installed\u001b[22m\u001b[39m Indexing ──────────────────── v1.1.1\n",
            "\u001b[32m\u001b[1m   Installed\u001b[22m\u001b[39m CEnum ─────────────────────── v0.4.2\n",
            "\u001b[32m\u001b[1m   Installed\u001b[22m\u001b[39m MixedModelsDatasets ───────── v0.1.0\n",
            "\u001b[32m\u001b[1m   Installed\u001b[22m\u001b[39m TranscodingStreams ────────── v0.9.13\n",
            "\u001b[32m\u001b[1m   Installed\u001b[22m\u001b[39m FillArrays ────────────────── v1.8.0\n",
            "\u001b[32m\u001b[1m   Installed\u001b[22m\u001b[39m MixedModels ───────────────── v4.22.2\n",
            "\u001b[32m\u001b[1m   Installed\u001b[22m\u001b[39m QuadGK ────────────────────── v2.9.1\n",
            "\u001b[32m\u001b[1m   Installed\u001b[22m\u001b[39m Lz4_jll ───────────────────── v1.9.4+0\n",
            "\u001b[32m\u001b[1m   Installed\u001b[22m\u001b[39m BitIntegers ───────────────── v0.3.1\n",
            "\u001b[32m\u001b[1m   Installed\u001b[22m\u001b[39m Rmath_jll ─────────────────── v0.4.0+0\n",
            "\u001b[32m\u001b[1m   Installed\u001b[22m\u001b[39m CodecZstd ─────────────────── v0.7.2\n",
            "\u001b[32m\u001b[1m   Installed\u001b[22m\u001b[39m Reexport ──────────────────── v1.2.2\n",
            "\u001b[32m\u001b[1m   Installed\u001b[22m\u001b[39m StatsModels ───────────────── v0.7.3\n",
            "\u001b[32m\u001b[1m   Installed\u001b[22m\u001b[39m GLM ───────────────────────── v1.9.0\n",
            "\u001b[32m\u001b[1m   Installed\u001b[22m\u001b[39m DataStructures ────────────── v0.18.15\n",
            "\u001b[32m\u001b[1m   Installed\u001b[22m\u001b[39m Requires ──────────────────── v1.3.0\n",
            "\u001b[32m\u001b[1m   Installed\u001b[22m\u001b[39m StatsAPI ──────────────────── v1.7.0\n",
            "\u001b[32m\u001b[1m   Installed\u001b[22m\u001b[39m Compat ────────────────────── v4.10.1\n",
            "\u001b[32m\u001b[1m   Installed\u001b[22m\u001b[39m ExprTools ─────────────────── v0.1.10\n",
            "\u001b[32m\u001b[1m   Installed\u001b[22m\u001b[39m Static ────────────────────── v0.8.8\n",
            "\u001b[32m\u001b[1m   Installed\u001b[22m\u001b[39m LogExpFunctions ───────────── v0.3.26\n",
            "\u001b[32m\u001b[1m   Installed\u001b[22m\u001b[39m ShiftedArrays ─────────────── v2.0.0\n",
            "\u001b[32m\u001b[1m   Installed\u001b[22m\u001b[39m Distributions ─────────────── v0.25.103\n",
            "\u001b[32m\u001b[1m   Installed\u001b[22m\u001b[39m OpenSpecFun_jll ───────────── v0.5.5+0\n",
            "\u001b[32m\u001b[1m   Installed\u001b[22m\u001b[39m Missings ──────────────────── v1.1.0\n",
            "\u001b[32m\u001b[1m   Installed\u001b[22m\u001b[39m StructTypes ───────────────── v1.10.0\n",
            "\u001b[32m\u001b[1m   Installed\u001b[22m\u001b[39m ArrayLayouts ──────────────── v1.4.3\n",
            "\u001b[32m\u001b[1m   Installed\u001b[22m\u001b[39m CodecLz4 ──────────────────── v0.4.1\n",
            "\u001b[32m\u001b[1m   Installed\u001b[22m\u001b[39m SortingAlgorithms ─────────── v1.2.0\n",
            "\u001b[32m\u001b[1m   Installed\u001b[22m\u001b[39m DocStringExtensions ───────── v0.9.3\n",
            "\u001b[32m\u001b[1m   Installed\u001b[22m\u001b[39m StatsBase ─────────────────── v0.34.2\n",
            "\u001b[32m\u001b[1m    Updating\u001b[22m\u001b[39m `~/.julia/environments/v1.9/Project.toml`\n",
            "  \u001b[90m[ff71e718] \u001b[39m\u001b[92m+ MixedModels v4.22.2\u001b[39m\n",
            "\u001b[32m\u001b[1m    Updating\u001b[22m\u001b[39m `~/.julia/environments/v1.9/Manifest.toml`\n",
            "  \u001b[90m[79e6a3ab] \u001b[39m\u001b[92m+ Adapt v3.7.1\u001b[39m\n",
            "  \u001b[90m[4c555306] \u001b[39m\u001b[92m+ ArrayLayouts v1.4.3\u001b[39m\n",
            "  \u001b[90m[69666777] \u001b[39m\u001b[92m+ Arrow v2.6.2\u001b[39m\n",
            "  \u001b[90m[31f734f8] \u001b[39m\u001b[92m+ ArrowTypes v2.2.2\u001b[39m\n",
            "\u001b[33m⌅\u001b[39m \u001b[90m[093aae92] \u001b[39m\u001b[92m+ BSplineKit v0.16.5\u001b[39m\n",
            "  \u001b[90m[aae01518] \u001b[39m\u001b[92m+ BandedMatrices v1.2.1\u001b[39m\n",
            "  \u001b[90m[c3b6d118] \u001b[39m\u001b[92m+ BitIntegers v0.3.1\u001b[39m\n",
            "\u001b[33m⌅\u001b[39m \u001b[90m[fa961155] \u001b[39m\u001b[92m+ CEnum v0.4.2\u001b[39m\n",
            "  \u001b[90m[49dc2e85] \u001b[39m\u001b[92m+ Calculus v0.5.1\u001b[39m\n",
            "  \u001b[90m[5ba52731] \u001b[39m\u001b[92m+ CodecLz4 v0.4.1\u001b[39m\n",
            "\u001b[33m⌅\u001b[39m \u001b[90m[6b39b394] \u001b[39m\u001b[92m+ CodecZstd v0.7.2\u001b[39m\n",
            "  \u001b[90m[34da2185] \u001b[39m\u001b[92m+ Compat v4.10.1\u001b[39m\n",
            "  \u001b[90m[f0e56b4a] \u001b[39m\u001b[92m+ ConcurrentUtilities v2.3.0\u001b[39m\n",
            "  \u001b[90m[9a962f9c] \u001b[39m\u001b[92m+ DataAPI v1.15.0\u001b[39m\n",
            "  \u001b[90m[864edb3b] \u001b[39m\u001b[92m+ DataStructures v0.18.15\u001b[39m\n",
            "  \u001b[90m[e2d170a0] \u001b[39m\u001b[92m+ DataValueInterfaces v1.0.0\u001b[39m\n",
            "  \u001b[90m[85a47980] \u001b[39m\u001b[92m+ Dictionaries v0.3.25\u001b[39m\n",
            "  \u001b[90m[31c24e10] \u001b[39m\u001b[92m+ Distributions v0.25.103\u001b[39m\n",
            "  \u001b[90m[ffbed154] \u001b[39m\u001b[92m+ DocStringExtensions v0.9.3\u001b[39m\n",
            "  \u001b[90m[fa6b7ba4] \u001b[39m\u001b[92m+ DualNumbers v0.6.8\u001b[39m\n",
            "  \u001b[90m[4e289a0a] \u001b[39m\u001b[92m+ EnumX v1.0.4\u001b[39m\n",
            "  \u001b[90m[e2ba6199] \u001b[39m\u001b[92m+ ExprTools v0.1.10\u001b[39m\n",
            "  \u001b[90m[442a2c76] \u001b[39m\u001b[92m+ FastGaussQuadrature v1.0.0\u001b[39m\n",
            "  \u001b[90m[1a297f60] \u001b[39m\u001b[92m+ FillArrays v1.8.0\u001b[39m\n",
            "  \u001b[90m[38e38edf] \u001b[39m\u001b[92m+ GLM v1.9.0\u001b[39m\n",
            "  \u001b[90m[34004b35] \u001b[39m\u001b[92m+ HypergeometricFunctions v0.3.23\u001b[39m\n",
            "  \u001b[90m[615f187c] \u001b[39m\u001b[92m+ IfElse v0.1.1\u001b[39m\n",
            "  \u001b[90m[313cdc1a] \u001b[39m\u001b[92m+ Indexing v1.1.1\u001b[39m\n",
            "  \u001b[90m[842dd82b] \u001b[39m\u001b[92m+ InlineStrings v1.4.0\u001b[39m\n",
            "  \u001b[90m[92d709cd] \u001b[39m\u001b[92m+ IrrationalConstants v0.2.2\u001b[39m\n",
            "  \u001b[90m[82899510] \u001b[39m\u001b[92m+ IteratorInterfaceExtensions v1.0.0\u001b[39m\n",
            "  \u001b[90m[0f8b85d8] \u001b[39m\u001b[92m+ JSON3 v1.13.2\u001b[39m\n",
            "  \u001b[90m[2ab3a3ac] \u001b[39m\u001b[92m+ LogExpFunctions v0.3.26\u001b[39m\n",
            "  \u001b[90m[e6f89c97] \u001b[39m\u001b[92m+ LoggingExtras v1.0.3\u001b[39m\n",
            "  \u001b[90m[e1d29d7a] \u001b[39m\u001b[92m+ Missings v1.1.0\u001b[39m\n",
            "  \u001b[90m[ff71e718] \u001b[39m\u001b[92m+ MixedModels v4.22.2\u001b[39m\n",
            "  \u001b[90m[7e9fb7ac] \u001b[39m\u001b[92m+ MixedModelsDatasets v0.1.0\u001b[39m\n",
            "  \u001b[90m[78c3b35d] \u001b[39m\u001b[92m+ Mocking v0.7.7\u001b[39m\n",
            "  \u001b[90m[76087f3c] \u001b[39m\u001b[92m+ NLopt v1.0.0\u001b[39m\n",
            "  \u001b[90m[77ba4419] \u001b[39m\u001b[92m+ NaNMath v1.0.2\u001b[39m\n",
            "  \u001b[90m[bac558e1] \u001b[39m\u001b[92m+ OrderedCollections v1.6.3\u001b[39m\n",
            "  \u001b[90m[90014a1f] \u001b[39m\u001b[92m+ PDMats v0.11.30\u001b[39m\n",
            "  \u001b[90m[2dfb63ee] \u001b[39m\u001b[92m+ PooledArrays v1.4.3\u001b[39m\n",
            "  \u001b[90m[1fd47b50] \u001b[39m\u001b[92m+ QuadGK v2.9.1\u001b[39m\n",
            "  \u001b[90m[189a3867] \u001b[39m\u001b[92m+ Reexport v1.2.2\u001b[39m\n",
            "  \u001b[90m[ae029012] \u001b[39m\u001b[92m+ Requires v1.3.0\u001b[39m\n",
            "  \u001b[90m[79098fc4] \u001b[39m\u001b[92m+ Rmath v0.7.1\u001b[39m\n",
            "  \u001b[90m[6c6a2e73] \u001b[39m\u001b[92m+ Scratch v1.2.1\u001b[39m\n",
            "  \u001b[90m[91c51154] \u001b[39m\u001b[92m+ SentinelArrays v1.4.1\u001b[39m\n",
            "  \u001b[90m[1277b4bf] \u001b[39m\u001b[92m+ ShiftedArrays v2.0.0\u001b[39m\n",
            "  \u001b[90m[a2af1166] \u001b[39m\u001b[92m+ SortingAlgorithms v1.2.0\u001b[39m\n",
            "  \u001b[90m[276daf66] \u001b[39m\u001b[92m+ SpecialFunctions v2.3.1\u001b[39m\n",
            "  \u001b[90m[03a91e81] \u001b[39m\u001b[92m+ SplitApplyCombine v1.2.2\u001b[39m\n",
            "  \u001b[90m[aedffcd0] \u001b[39m\u001b[92m+ Static v0.8.8\u001b[39m\n",
            "  \u001b[90m[90137ffa] \u001b[39m\u001b[92m+ StaticArrays v1.7.0\u001b[39m\n",
            "  \u001b[90m[1e83bf80] \u001b[39m\u001b[92m+ StaticArraysCore v1.4.2\u001b[39m\n",
            "  \u001b[90m[82ae8749] \u001b[39m\u001b[92m+ StatsAPI v1.7.0\u001b[39m\n",
            "  \u001b[90m[2913bbd2] \u001b[39m\u001b[92m+ StatsBase v0.34.2\u001b[39m\n",
            "  \u001b[90m[4c63d2b9] \u001b[39m\u001b[92m+ StatsFuns v1.3.0\u001b[39m\n",
            "  \u001b[90m[3eaba693] \u001b[39m\u001b[92m+ StatsModels v0.7.3\u001b[39m\n",
            "  \u001b[90m[856f2bd8] \u001b[39m\u001b[92m+ StructTypes v1.10.0\u001b[39m\n",
            "  \u001b[90m[dc5dba14] \u001b[39m\u001b[92m+ TZJData v1.0.0+2023c\u001b[39m\n",
            "  \u001b[90m[3783bdb8] \u001b[39m\u001b[92m+ TableTraits v1.0.1\u001b[39m\n",
            "  \u001b[90m[bd369af6] \u001b[39m\u001b[92m+ Tables v1.11.1\u001b[39m\n",
            "  \u001b[90m[f269a46b] \u001b[39m\u001b[92m+ TimeZones v1.13.0\u001b[39m\n",
            "\u001b[33m⌅\u001b[39m \u001b[90m[3bb67fe8] \u001b[39m\u001b[92m+ TranscodingStreams v0.9.13\u001b[39m\n",
            "  \u001b[90m[9d95f2ec] \u001b[39m\u001b[92m+ TypedTables v1.4.3\u001b[39m\n",
            "  \u001b[90m[5ced341a] \u001b[39m\u001b[92m+ Lz4_jll v1.9.4+0\u001b[39m\n",
            "  \u001b[90m[079eb43e] \u001b[39m\u001b[92m+ NLopt_jll v2.7.1+0\u001b[39m\n",
            "  \u001b[90m[efe28fd5] \u001b[39m\u001b[92m+ OpenSpecFun_jll v0.5.5+0\u001b[39m\n",
            "  \u001b[90m[f50d1b31] \u001b[39m\u001b[92m+ Rmath_jll v0.4.0+0\u001b[39m\n",
            "  \u001b[90m[3161d3a3] \u001b[39m\u001b[92m+ Zstd_jll v1.5.5+0\u001b[39m\n",
            "  \u001b[90m[9fa8497b] \u001b[39m\u001b[92m+ Future\u001b[39m\n",
            "  \u001b[90m[4af54fe1] \u001b[39m\u001b[92m+ LazyArtifacts\u001b[39m\n",
            "  \u001b[90m[37e2e46d] \u001b[39m\u001b[92m+ LinearAlgebra\u001b[39m\n",
            "  \u001b[90m[2f01184e] \u001b[39m\u001b[92m+ SparseArrays\u001b[39m\n",
            "  \u001b[90m[10745b16] \u001b[39m\u001b[92m+ Statistics v1.9.0\u001b[39m\n",
            "  \u001b[90m[4607b0f0] \u001b[39m\u001b[92m+ SuiteSparse\u001b[39m\n",
            "  \u001b[90m[e66e0078] \u001b[39m\u001b[92m+ CompilerSupportLibraries_jll v1.0.5+0\u001b[39m\n",
            "  \u001b[90m[4536629a] \u001b[39m\u001b[92m+ OpenBLAS_jll v0.3.21+4\u001b[39m\n",
            "  \u001b[90m[05823500] \u001b[39m\u001b[92m+ OpenLibm_jll v0.8.1+0\u001b[39m\n",
            "  \u001b[90m[bea87d4a] \u001b[39m\u001b[92m+ SuiteSparse_jll v5.10.1+6\u001b[39m\n",
            "  \u001b[90m[8e850b90] \u001b[39m\u001b[92m+ libblastrampoline_jll v5.8.0+0\u001b[39m\n",
            "\u001b[36m\u001b[1m        Info\u001b[22m\u001b[39m Packages marked with \u001b[33m⌅\u001b[39m have new versions available but compatibility constraints restrict them from upgrading. To see why use `status --outdated -m`\n",
            "\u001b[32m\u001b[1mPrecompiling\u001b[22m\u001b[39m project...\n",
            "\u001b[32m  ✓ \u001b[39m\u001b[90mCompat\u001b[39m\n",
            "\u001b[32m  ✓ \u001b[39m\u001b[90mCalculus\u001b[39m\n",
            "\u001b[32m  ✓ \u001b[39m\u001b[90mOrderedCollections\u001b[39m\n",
            "\u001b[32m  ✓ \u001b[39m\u001b[90mRequires\u001b[39m\n",
            "\u001b[32m  ✓ \u001b[39m\u001b[90mSentinelArrays\u001b[39m\n",
            "\u001b[32m  ✓ \u001b[39m\u001b[90mStructTypes\u001b[39m\n",
            "\u001b[32m  ✓ \u001b[39m\u001b[90mDataValueInterfaces\u001b[39m\n",
            "\u001b[32m  ✓ \u001b[39m\u001b[90mEnumX\u001b[39m\n",
            "\u001b[32m  ✓ \u001b[39m\u001b[90mFillArrays\u001b[39m\n",
            "\u001b[32m  ✓ \u001b[39m\u001b[90mArrowTypes\u001b[39m\n",
            "\u001b[32m  ✓ \u001b[39m\u001b[90mReexport\u001b[39m\n",
            "\u001b[32m  ✓ \u001b[39m\u001b[90mExprTools\u001b[39m\n",
            "\u001b[32m  ✓ \u001b[39m\u001b[90mIfElse\u001b[39m\n",
            "\u001b[32m  ✓ \u001b[39m\u001b[90mDocStringExtensions\u001b[39m\n",
            "\u001b[32m  ✓ \u001b[39m\u001b[90mIteratorInterfaceExtensions\u001b[39m\n",
            "\u001b[32m  ✓ \u001b[39m\u001b[90mDataAPI\u001b[39m\n",
            "\u001b[32m  ✓ \u001b[39m\u001b[90mStatsAPI\u001b[39m\n",
            "\u001b[32m  ✓ \u001b[39m\u001b[90mIrrationalConstants\u001b[39m\n",
            "\u001b[32m  ✓ \u001b[39m\u001b[90mCompilerSupportLibraries_jll\u001b[39m\n",
            "\u001b[32m  ✓ \u001b[39m\u001b[90mScratch\u001b[39m\n",
            "\u001b[32m  ✓ \u001b[39m\u001b[90mLoggingExtras\u001b[39m\n",
            "\u001b[32m  ✓ \u001b[39m\u001b[90mBitIntegers\u001b[39m\n",
            "\u001b[32m  ✓ \u001b[39m\u001b[90mIndexing\u001b[39m\n",
            "\u001b[32m  ✓ \u001b[39m\u001b[90mCEnum\u001b[39m\n",
            "\u001b[32m  ✓ \u001b[39m\u001b[90mConcurrentUtilities\u001b[39m\n",
            "\u001b[32m  ✓ \u001b[39m\u001b[90mStaticArraysCore\u001b[39m\n",
            "\u001b[32m  ✓ \u001b[39m\u001b[90mTZJData\u001b[39m\n",
            "\u001b[32m  ✓ \u001b[39m\u001b[90mShiftedArrays\u001b[39m\n",
            "\u001b[32m  ✓ \u001b[39m\u001b[90mTranscodingStreams\u001b[39m\n",
            "\u001b[32m  ✓ \u001b[39m\u001b[90mNaNMath\u001b[39m\n",
            "\u001b[32m  ✓ \u001b[39m\u001b[90mRmath_jll\u001b[39m\n",
            "\u001b[32m  ✓ \u001b[39m\u001b[90mPDMats\u001b[39m\n",
            "\u001b[32m  ✓ \u001b[39m\u001b[90mNLopt_jll\u001b[39m\n",
            "\u001b[32m  ✓ \u001b[39m\u001b[90mZstd_jll\u001b[39m\n",
            "\u001b[32m  ✓ \u001b[39m\u001b[90mLz4_jll\u001b[39m\n",
            "\u001b[32m  ✓ \u001b[39m\u001b[90mCompat → CompatLinearAlgebraExt\u001b[39m\n",
            "\u001b[32m  ✓ \u001b[39m\u001b[90mAdapt\u001b[39m\n",
            "\u001b[32m  ✓ \u001b[39m\u001b[90mInlineStrings\u001b[39m\n",
            "\u001b[32m  ✓ \u001b[39m\u001b[90mTableTraits\u001b[39m\n",
            "\u001b[32m  ✓ \u001b[39m\u001b[90mStatic\u001b[39m\n",
            "\u001b[32m  ✓ \u001b[39m\u001b[90mMissings\u001b[39m\n",
            "\u001b[32m  ✓ \u001b[39m\u001b[90mPooledArrays\u001b[39m\n",
            "\u001b[32m  ✓ \u001b[39m\u001b[90mLogExpFunctions\u001b[39m\n",
            "\u001b[32m  ✓ \u001b[39m\u001b[90mOpenSpecFun_jll\u001b[39m\n",
            "\u001b[32m  ✓ \u001b[39m\u001b[90mDictionaries\u001b[39m\n",
            "\u001b[32m  ✓ \u001b[39m\u001b[90mRmath\u001b[39m\n",
            "\u001b[32m  ✓ \u001b[39m\u001b[90mFillArrays → FillArraysPDMatsExt\u001b[39m\n",
            "\u001b[32m  ✓ \u001b[39m\u001b[90mNLopt\u001b[39m\n",
            "\u001b[32m  ✓ \u001b[39m\u001b[90mCodecZstd\u001b[39m\n",
            "\u001b[32m  ✓ \u001b[39m\u001b[90mCodecLz4\u001b[39m\n",
            "\u001b[32m  ✓ \u001b[39m\u001b[90mDataStructures\u001b[39m\n",
            "\u001b[32m  ✓ \u001b[39m\u001b[90mMocking\u001b[39m\n",
            "\u001b[32m  ✓ \u001b[39m\u001b[90mTables\u001b[39m\n",
            "\u001b[32m  ✓ \u001b[39m\u001b[90mStaticArrays\u001b[39m\n",
            "\u001b[32m  ✓ \u001b[39m\u001b[90mSplitApplyCombine\u001b[39m\n",
            "\u001b[32m  ✓ \u001b[39m\u001b[90mFillArrays → FillArraysSparseArraysExt\u001b[39m\n",
            "\u001b[32m  ✓ \u001b[39m\u001b[90mJSON3\u001b[39m\n",
            "\u001b[32m  ✓ \u001b[39m\u001b[90mSortingAlgorithms\u001b[39m\n",
            "\u001b[32m  ✓ \u001b[39m\u001b[90mSpecialFunctions\u001b[39m\n",
            "\u001b[32m  ✓ \u001b[39m\u001b[90mQuadGK\u001b[39m\n",
            "\u001b[32m  ✓ \u001b[39m\u001b[90mStaticArrays → StaticArraysStatisticsExt\u001b[39m\n",
            "\u001b[32m  ✓ \u001b[39m\u001b[90mAdapt → AdaptStaticArraysExt\u001b[39m\n",
            "\u001b[32m  ✓ \u001b[39m\u001b[90mFillArrays → FillArraysStatisticsExt\u001b[39m\n",
            "\u001b[32m  ✓ \u001b[39m\u001b[90mDualNumbers\u001b[39m\n",
            "\u001b[32m  ✓ \u001b[39m\u001b[90mStatsBase\u001b[39m\n",
            "\u001b[32m  ✓ \u001b[39m\u001b[90mFastGaussQuadrature\u001b[39m\n",
            "\u001b[32m  ✓ \u001b[39m\u001b[90mTypedTables\u001b[39m\n",
            "\u001b[32m  ✓ \u001b[39m\u001b[90mHypergeometricFunctions\u001b[39m\n",
            "\u001b[32m  ✓ \u001b[39m\u001b[90mStatsFuns\u001b[39m\n",
            "\u001b[32m  ✓ \u001b[39m\u001b[90mStatsModels\u001b[39m\n",
            "\u001b[32m  ✓ \u001b[39m\u001b[90mTimeZones\u001b[39m\n",
            "\u001b[32m  ✓ \u001b[39m\u001b[90mArrow\u001b[39m\n",
            "\u001b[32m  ✓ \u001b[39m\u001b[90mMixedModelsDatasets\u001b[39m\n",
            "\u001b[32m  ✓ \u001b[39m\u001b[90mDistributions\u001b[39m\n",
            "\u001b[32m  ✓ \u001b[39m\u001b[90mDistributions → DistributionsTestExt\u001b[39m\n",
            "\u001b[32m  ✓ \u001b[39m\u001b[90mArrayLayouts\u001b[39m\n",
            "\u001b[32m  ✓ \u001b[39m\u001b[90mGLM\u001b[39m\n",
            "\u001b[32m  ✓ \u001b[39m\u001b[90mArrayLayouts → ArrayLayoutsSparseArraysExt\u001b[39m\n",
            "\u001b[32m  ✓ \u001b[39m\u001b[90mBandedMatrices\u001b[39m\n",
            "\u001b[32m  ✓ \u001b[39m\u001b[90mBandedMatrices → BandedMatricesSparseArraysExt\u001b[39m\n",
            "\u001b[32m  ✓ \u001b[39m\u001b[90mBSplineKit\u001b[39m\n",
            "\u001b[32m  ✓ \u001b[39mMixedModels\n",
            "  82 dependencies successfully precompiled in 272 seconds. 21 already precompiled.\n",
            "  \u001b[33m1\u001b[39m dependency had output during precompilation:\u001b[33m\n",
            "┌ \u001b[39mMixedModels [ff71e718-51f3-5ec2-a782-8ffcbfa3c316]\u001b[33m\n",
            "│  \u001b[39m\u001b[32m\u001b[1m Downloading\u001b[22m\u001b[39m artifact: TestData\u001b[33m\n",
            "└  \u001b[39m\n",
            "\u001b[32m\u001b[1m   Resolving\u001b[22m\u001b[39m package versions...\n",
            "\u001b[32m\u001b[1m   Installed\u001b[22m\u001b[39m WorkerUtilities ─ v1.6.1\n",
            "\u001b[32m\u001b[1m   Installed\u001b[22m\u001b[39m CodecZlib ─────── v0.7.3\n",
            "\u001b[32m\u001b[1m   Installed\u001b[22m\u001b[39m WeakRefStrings ── v1.4.2\n",
            "\u001b[32m\u001b[1m   Installed\u001b[22m\u001b[39m FilePathsBase ─── v0.9.21\n",
            "\u001b[32m\u001b[1m   Installed\u001b[22m\u001b[39m CSV ───────────── v0.10.11\n",
            "\u001b[32m\u001b[1m    Updating\u001b[22m\u001b[39m `~/.julia/environments/v1.9/Project.toml`\n",
            "  \u001b[90m[336ed68f] \u001b[39m\u001b[92m+ CSV v0.10.11\u001b[39m\n",
            "\u001b[32m\u001b[1m    Updating\u001b[22m\u001b[39m `~/.julia/environments/v1.9/Manifest.toml`\n",
            "  \u001b[90m[336ed68f] \u001b[39m\u001b[92m+ CSV v0.10.11\u001b[39m\n",
            "  \u001b[90m[944b1d66] \u001b[39m\u001b[92m+ CodecZlib v0.7.3\u001b[39m\n",
            "  \u001b[90m[48062228] \u001b[39m\u001b[92m+ FilePathsBase v0.9.21\u001b[39m\n",
            "  \u001b[90m[ea10d353] \u001b[39m\u001b[92m+ WeakRefStrings v1.4.2\u001b[39m\n",
            "  \u001b[90m[76eceee3] \u001b[39m\u001b[92m+ WorkerUtilities v1.6.1\u001b[39m\n",
            "\u001b[32m\u001b[1mPrecompiling\u001b[22m\u001b[39m project...\n",
            "\u001b[32m  ✓ \u001b[39m\u001b[90mCodecZlib\u001b[39m\n",
            "\u001b[32m  ✓ \u001b[39m\u001b[90mWorkerUtilities\u001b[39m\n",
            "\u001b[32m  ✓ \u001b[39m\u001b[90mFilePathsBase\u001b[39m\n",
            "\u001b[32m  ✓ \u001b[39m\u001b[90mWeakRefStrings\u001b[39m\n",
            "\u001b[32m  ✓ \u001b[39mCSV\n",
            "  5 dependencies successfully precompiled in 33 seconds. 103 already precompiled.\n",
            "\u001b[32m\u001b[1m   Resolving\u001b[22m\u001b[39m package versions...\n",
            "\u001b[32m\u001b[1m   Installed\u001b[22m\u001b[39m LaTeXStrings ─────── v1.3.1\n",
            "\u001b[32m\u001b[1m   Installed\u001b[22m\u001b[39m Crayons ──────────── v4.1.1\n",
            "\u001b[32m\u001b[1m   Installed\u001b[22m\u001b[39m InvertedIndices ──── v1.3.0\n",
            "\u001b[32m\u001b[1m   Installed\u001b[22m\u001b[39m StringManipulation ─ v0.3.4\n",
            "\u001b[32m\u001b[1m   Installed\u001b[22m\u001b[39m DataFrames ───────── v1.6.1\n",
            "\u001b[32m\u001b[1m   Installed\u001b[22m\u001b[39m PrettyTables ─────── v2.3.1\n",
            "\u001b[32m\u001b[1m    Updating\u001b[22m\u001b[39m `~/.julia/environments/v1.9/Project.toml`\n",
            "  \u001b[90m[a93c6f00] \u001b[39m\u001b[92m+ DataFrames v1.6.1\u001b[39m\n",
            "\u001b[32m\u001b[1m    Updating\u001b[22m\u001b[39m `~/.julia/environments/v1.9/Manifest.toml`\n",
            "  \u001b[90m[a8cc5b0e] \u001b[39m\u001b[92m+ Crayons v4.1.1\u001b[39m\n",
            "  \u001b[90m[a93c6f00] \u001b[39m\u001b[92m+ DataFrames v1.6.1\u001b[39m\n",
            "  \u001b[90m[41ab1584] \u001b[39m\u001b[92m+ InvertedIndices v1.3.0\u001b[39m\n",
            "  \u001b[90m[b964fa9f] \u001b[39m\u001b[92m+ LaTeXStrings v1.3.1\u001b[39m\n",
            "  \u001b[90m[08abe8d2] \u001b[39m\u001b[92m+ PrettyTables v2.3.1\u001b[39m\n",
            "  \u001b[90m[892a3eda] \u001b[39m\u001b[92m+ StringManipulation v0.3.4\u001b[39m\n",
            "\u001b[32m\u001b[1mPrecompiling\u001b[22m\u001b[39m project...\n",
            "\u001b[32m  ✓ \u001b[39m\u001b[90mLaTeXStrings\u001b[39m\n",
            "\u001b[32m  ✓ \u001b[39m\u001b[90mInvertedIndices\u001b[39m\n",
            "\u001b[32m  ✓ \u001b[39m\u001b[90mCrayons\u001b[39m\n",
            "\u001b[32m  ✓ \u001b[39m\u001b[90mStringManipulation\u001b[39m\n",
            "\u001b[32m  ✓ \u001b[39m\u001b[90mPrettyTables\u001b[39m\n",
            "\u001b[32m  ✓ \u001b[39mDataFrames\n",
            "  6 dependencies successfully precompiled in 131 seconds. 108 already precompiled.\n"
          ]
        }
      ]
    },
    {
      "cell_type": "markdown",
      "metadata": {
        "id": "-OS3Ac017T1i"
      },
      "source": [
        "## 1c) Check the Installation\n",
        "\n",
        "Check that you have installed Julia v1.9.4"
      ]
    },
    {
      "cell_type": "code",
      "metadata": {
        "id": "EEzvvzCl1i0F",
        "colab": {
          "base_uri": "https://localhost:8080/"
        },
        "outputId": "3a9a457f-50d1-4550-90af-e15c11bad74c"
      },
      "source": [
        "versioninfo()"
      ],
      "execution_count": null,
      "outputs": [
        {
          "output_type": "stream",
          "name": "stdout",
          "text": [
            "Julia Version 1.9.4\n",
            "Commit 8e5136fa297 (2023-11-14 08:46 UTC)\n",
            "Build Info:\n",
            "  Official https://julialang.org/ release\n",
            "Platform Info:\n",
            "  OS: Linux (x86_64-linux-gnu)\n",
            "  CPU: 2 × Intel(R) Xeon(R) CPU @ 2.20GHz\n",
            "  WORD_SIZE: 64\n",
            "  LIBM: libopenlibm\n",
            "  LLVM: libLLVM-14.0.6 (ORCJIT, broadwell)\n",
            "  Threads: 3 on 2 virtual cores\n",
            "Environment:\n",
            "  LD_LIBRARY_PATH = /usr/local/nvidia/lib:/usr/local/nvidia/lib64\n",
            "  JULIA_NUM_THREADS = 2\n",
            "  JULIA_IMAGE_THREADS = 1\n"
          ]
        }
      ]
    },
    {
      "cell_type": "markdown",
      "source": [
        "Check that you have installed the MixedModels.jl library (+ some others)"
      ],
      "metadata": {
        "id": "Ao5QIh8t7G0s"
      }
    },
    {
      "cell_type": "code",
      "source": [
        "Pkg.status()"
      ],
      "metadata": {
        "colab": {
          "base_uri": "https://localhost:8080/"
        },
        "id": "FAlM4_d3Heln",
        "outputId": "6f5612e0-34cc-46e5-a897-e84c0ee52351"
      },
      "execution_count": null,
      "outputs": [
        {
          "output_type": "stream",
          "name": "stdout",
          "text": [
            "\u001b[32m\u001b[1mStatus\u001b[22m\u001b[39m `~/.julia/environments/v1.9/Project.toml`\n",
            "  \u001b[90m[336ed68f] \u001b[39mCSV v0.10.11\n",
            "  \u001b[90m[a93c6f00] \u001b[39mDataFrames v1.6.1\n",
            "  \u001b[90m[7073ff75] \u001b[39mIJulia v1.24.2\n",
            "  \u001b[90m[ff71e718] \u001b[39mMixedModels v4.22.2\n",
            "  \u001b[90m[92933f4c] \u001b[39mProgressMeter v1.9.0\n"
          ]
        }
      ]
    },
    {
      "cell_type": "markdown",
      "source": [
        "## 1d) Optional: setup on your own machine\n",
        "\n",
        "(You can try this section on your own while the colab setup code runs!)\n",
        "\n",
        "1) Install **Julia**: https://julialang.org/downloads/. For troubleshooting, see [this manual](https://dev-juliacn.github.io/downloads/platform.html).\n",
        "\n",
        "2) Open **RStudio**. From the [terminal tab](https://support.posit.co/hc/en-us/articles/115010737148-Using-the-RStudio-Terminal-in-the-RStudio-IDE#started), check that Julia is installed (ex: run `julia --version`)\n",
        "\n",
        "3) Open Julia and install the necessary **libraries** using the same code from (1b).\n",
        "\n",
        "4) Download/clone the [Github repo](https://github.com/yjunechoe/MindCORE-julia-mixedmodels) for this workshop (more instructions to come in Section 4)"
      ],
      "metadata": {
        "id": "xmX3dmyBC3Hw"
      }
    },
    {
      "cell_type": "markdown",
      "source": [
        "# 2) Anatomy of mixed models in Julia\n",
        "\n",
        "We're skipping the \"hello world\" in Julia. Let's jump straight to fitting mixed effects models"
      ],
      "metadata": {
        "id": "INCjZzpGHrff"
      }
    },
    {
      "cell_type": "code",
      "source": [
        "# R's `library()` equivalent of loading a package\n",
        "using MixedModels\n",
        "# (Ignore) the following lines suppress the printing of progress bars\n",
        "using ProgressMeter\n",
        "ProgressMeter.ijulia_behavior(:append);"
      ],
      "metadata": {
        "id": "QxLt6Z-OJm_F"
      },
      "execution_count": null,
      "outputs": []
    },
    {
      "cell_type": "markdown",
      "source": [
        "## 2a) Review from R\n",
        "\n",
        "In R, there are (at least) three pieces of information you need to fit a linear model:\n",
        "\n",
        "1) The model to fit - ex: `lm()`, `lmer()`, `glmer()`\n",
        "\n",
        "2) The formula - ex: `y ~ x + (1 | z)`\n",
        "\n",
        "3) The data - ex: a data frame like `lme4::sleepstudy`\n",
        "\n",
        "Example model fit:\n",
        "\n",
        "```r\n",
        "library(lme4)\n",
        "lmer(Reaction ~ Days + (1 | Subject), lme4::sleepstudy)\n",
        "#> Linear mixed model fit by REML ['lmerMod']\n",
        "#> Formula: Reaction ~ Days + (1 | Subject)\n",
        "#>    Data: sleepstudy\n",
        "#> REML criterion at convergence: 1786.465\n",
        "#> Random effects:\n",
        "#>  Groups   Name        Std.Dev.\n",
        "#>  Subject  (Intercept) 37.12   \n",
        "#>  Residual             30.99   \n",
        "#> Number of obs: 180, groups:  Subject, 18\n",
        "#> Fixed Effects:\n",
        "#> (Intercept)         Days  \n",
        "#>      251.41        10.47\n",
        "```"
      ],
      "metadata": {
        "id": "I-u81-NeHwPd"
      }
    },
    {
      "cell_type": "markdown",
      "source": [
        "## 2b) Translations to Julia\n",
        "\n",
        "The same three pieces of information are required to fit a model in Julia, though they look slightly different. The call follows the general template of:\n",
        "\n",
        "```julia\n",
        "fit(\n",
        "  # <model>,\n",
        "  # <formula>,\n",
        "  # <data>\n",
        ")\n",
        "```\n",
        "\n",
        "For example, translating the sleepstudy model in R from above (mind the [warm-up time](https://en.wikipedia.org/wiki/Just-in-time_compilation)):"
      ],
      "metadata": {
        "id": "_sXwBGtNI3Md"
      }
    },
    {
      "cell_type": "code",
      "source": [
        "sleepstudy = MixedModels.dataset(\"sleepstudy\")\n",
        "\n",
        "sleep_model = fit(\n",
        "  MixedModel,                             # Argument 1: The type of model\n",
        "  @formula(reaction ~ days + (1 | subj)), # Argument 2: model formula\n",
        "  sleepstudy                              # Argument 3: data to fit the model to\n",
        ");\n",
        "\n",
        "sleep_model"
      ],
      "metadata": {
        "colab": {
          "base_uri": "https://localhost:8080/",
          "height": 195
        },
        "id": "wfJJAcRpIn4l",
        "outputId": "e96f944c-ec01-4dc1-f453-76a27bfaef6d"
      },
      "execution_count": null,
      "outputs": [
        {
          "output_type": "stream",
          "name": "stderr",
          "text": [
            "\u001b[32mMinimizing 2    Time: 0:00:00 ( 0.12  s/it)\u001b[39m\n",
            "\u001b[A\n",
            "\u001b[32mMinimizing 14    Time: 0:00:00 (25.65 ms/it)\u001b[39m\n"
          ]
        },
        {
          "output_type": "execute_result",
          "data": {
            "text/plain": [
              "Linear mixed model fit by maximum likelihood\n",
              " reaction ~ 1 + days + (1 | subj)\n",
              "   logLik   -2 logLik     AIC       AICc        BIC    \n",
              "  -897.0393  1794.0786  1802.0786  1802.3072  1814.8505\n",
              "\n",
              "Variance components:\n",
              "            Column    Variance Std.Dev.\n",
              "subj     (Intercept)  1296.8692 36.0121\n",
              "Residual               954.5279 30.8954\n",
              " Number of obs: 180; levels of grouping factors: 18\n",
              "\n",
              "  Fixed-effects parameters:\n",
              "──────────────────────────────────────────────────\n",
              "                Coef.  Std. Error      z  Pr(>|z|)\n",
              "──────────────────────────────────────────────────\n",
              "(Intercept)  251.405     9.50618   26.45    <1e-99\n",
              "days          10.4673    0.801735  13.06    <1e-38\n",
              "──────────────────────────────────────────────────"
            ],
            "text/markdown": "|             |     Est. |     SE |     z |      p |  σ_subj |\n|:----------- | --------:| ------:| -----:| ------:| -------:|\n| (Intercept) | 251.4051 | 9.5062 | 26.45 | <1e-99 | 36.0121 |\n| days        |  10.4673 | 0.8017 | 13.06 | <1e-38 |         |\n| Residual    |  30.8954 |        |       |        |         |\n",
            "text/latex": "\\begin{tabular}\n{l | r | r | r | r | r}\n & Est. & SE & z & p & $\\sigma_\\text{subj}$ \\\\\n\\hline\n(Intercept) & 251.4051 & 9.5062 & 26.45 & <1e-99 & 36.0121 \\\\\ndays & 10.4673 & 0.8017 & 13.06 & <1e-38 &   \\\\\nResidual & 30.8954 &  &  &  &  \\\\\n\\end{tabular}\n"
          },
          "metadata": {},
          "execution_count": 5
        }
      ]
    },
    {
      "cell_type": "markdown",
      "source": [
        "A few things to note about Julia's syntax:\n",
        "\n",
        "1) Whereas **model types** are _functions_ in R (`lm()`, `lmer()`), model types are _objects_ in Julia, passed as the first argument to `fit()`, like `fit(MixedModels, ...)`\n",
        "\n",
        "2) Whereas **model formula** simply requires the tilde `~` in R, it must additionally be wrapped in `@formula()` in Julia\n",
        "\n",
        "3) In notebooks like Colab, printing the model object simple shows the model estimates and statistics in a table. But in the REPL, the model would print like this, which should look more familiar:\n"
      ],
      "metadata": {
        "id": "mE1L_mpGKmR0"
      }
    },
    {
      "cell_type": "code",
      "source": [
        "# simulates how the model actually prints in the \"console\"\n",
        "println(sleep_model)"
      ],
      "metadata": {
        "colab": {
          "base_uri": "https://localhost:8080/"
        },
        "id": "m88DYkD1dFL5",
        "outputId": "f7680d60-9e03-469e-aa93-2149f444dd91"
      },
      "execution_count": null,
      "outputs": [
        {
          "output_type": "stream",
          "name": "stdout",
          "text": [
            "Linear mixed model fit by maximum likelihood\n",
            " reaction ~ 1 + days + (1 | subj)\n",
            "   logLik   -2 logLik     AIC       AICc        BIC    \n",
            "  -897.0393  1794.0786  1802.0786  1802.3072  1814.8505\n",
            "\n",
            "Variance components:\n",
            "            Column    Variance Std.Dev.\n",
            "subj     (Intercept)  1296.8692 36.0121\n",
            "Residual               954.5279 30.8954\n",
            " Number of obs: 180; levels of grouping factors: 18\n",
            "\n",
            "  Fixed-effects parameters:\n",
            "──────────────────────────────────────────────────\n",
            "                Coef.  Std. Error      z  Pr(>|z|)\n",
            "──────────────────────────────────────────────────\n",
            "(Intercept)  251.405     9.50618   26.45    <1e-99\n",
            "days          10.4673    0.801735  13.06    <1e-38\n",
            "──────────────────────────────────────────────────\n"
          ]
        }
      ]
    },
    {
      "cell_type": "markdown",
      "source": [
        "## 2c) A few side-by-side examples"
      ],
      "metadata": {
        "id": "V5SzIew8M3Nx"
      }
    },
    {
      "cell_type": "markdown",
      "source": [
        "**A logistic regression model**:\n",
        "\n",
        "In R, you use `glmer()` with the appropriate `family`:\n",
        "\n",
        "```r\n",
        "glmer(y ~ x + (1 | z), data, family = binomial()) # or \"binomial\"\n",
        "```\n",
        "\n",
        "In Julia, you can just add the family as the fourth positional argument:\n",
        "\n",
        "```julia\n",
        "fit(MixedModel, @formula(y ~ x + (1 | z)), data, Bernoulli()) # Binomial() reserved for modelling proportions w/ weights\n",
        "```\n",
        "\n",
        "*You can be more specific by using `GeneralizedLinearMixedModel` instead of `MixedModel` but it'll infer the type from the [\"family\"](https://juliastats.org/MixedModels.jl/stable/optimization/#Generalized-Linear-Mixed-Effects-Models)*"
      ],
      "metadata": {
        "id": "tmr2rbYPM9tF"
      }
    },
    {
      "cell_type": "markdown",
      "source": [
        "**A zero-correlation  model**:\n",
        "\n",
        "In R, you use the double bar `||` syntax:\n",
        "\n",
        "```r\n",
        "lmer(y ~ x + (1 + x || z), data)\n",
        "```\n",
        "\n",
        "In Julia, you wrap the REs in `zerocorr()`:\n",
        "\n",
        "```julia\n",
        "fit(MixedModel, @formula(y ~ x + zerocorr(1 + x | z)), data)\n",
        "```"
      ],
      "metadata": {
        "id": "bBzvaQLQN1Mn"
      }
    },
    {
      "cell_type": "markdown",
      "source": [
        "**Contrast coding**\n",
        "\n",
        "In R, contrasts are often defined as an attribute of factor columns via `contrasts<-`:\n",
        "\n",
        "```r\n",
        "contrasts(data$x) <- contr.sum(2)\n",
        "lmer(y ~ x + (1 | z), data)\n",
        "```\n",
        "\n",
        "In Julia, contrasts are specified separately from the data, via the `contrasts` argument of `fit()`:\n",
        "\n",
        "```julia\n",
        "fit(MixedModel, @formula(y ~ x + (1 | z)), data;\n",
        "    contrasts = Dict(:x => EffectsCoding()))\n",
        "```\n",
        "\n",
        "Actually, R has this syntax too. It's just less popular:\n",
        "\n",
        "```r\n",
        "lmer(y ~ x + (1 | z), data,\n",
        "     contrasts = list(x = contr.sum))\n",
        "```\n",
        "\n",
        "See the [documentation](https://juliastats.org/StatsModels.jl/stable/contrasts/#StatsModels.HypothesisCoding) for more built-in contrast schemes and manual coding with `HypothesisCoding()`  \n",
        "\n",
        "*Note that we add the contrasts argument with the semincolon. In Julia, miscellaneous arguments are separted from required arguments by `;`*"
      ],
      "metadata": {
        "id": "0PWxc8vrU4zU"
      }
    },
    {
      "cell_type": "markdown",
      "source": [
        "**Toggling REML**:\n",
        "\n",
        "In R, LMEMs are fit with REML by default. You turn it off with:\n",
        "\n",
        "```r\n",
        "lmer(y ~ x + (1 | z), data, REML = FALSE)\n",
        "```\n",
        "\n",
        "In Julia, REML is FALSE by default. You turn it on with:\n",
        "\n",
        "```julia\n",
        "fit(MixedModel, @formula(y ~ x + (1 | z)), data; REML = true)\n",
        "```\n",
        "\n",
        "<details>\n",
        "<summary>Why the difference in REML defaults?</summary>\n",
        "\n",
        "[From Douglas Bates](https://github.com/RePsychLing/SMLP2023/discussions/24):\n",
        "\n",
        "<blockquote>\n",
        "\n",
        "The REML criterion is a hold-over from [earlier days](https://support.sas.com/documentation/cdl/en/statug/63033/HTML/default/viewer.htm#statug_mixed_sect022.htm) when people felt that estimating \"variance components\" as variances would naturally imply that these estimators were normally, or at least symmetrically, distributed. If that were the case then the mean of the distribution would be a good location measure and we would want to mean of the estimator to be close to the parameter being estimated. This is what an \"unbiased estimator\" means.\n",
        "\n",
        "They played with the definition of the likelihood to define \"residual\" or \"restricted\" likelihood and these REML estimates, which are not exactly unbiased for these models, but are closer to being unbiased.\n",
        "\n",
        "However, the whole question is moot because the estimators are quite skewed and the mean is not a good measure of location. The likelihood and likelihood-ratio tests are more cleanly defined for these models. We characterize variability according to multiple evaluations of the model at different parameter values through, e.g. [profiling](https://repsychling.github.io/SMLP2023/profiling.html), instead of trying to do only one fit and a bunch of mathematical approximations.\n",
        "\n",
        "</blockquote>\n",
        "</details>\n",
        "\n",
        "If we refit our sleepstudy model with REML, the output is identical to the R model:"
      ],
      "metadata": {
        "id": "DSfo4e1KO1Yy"
      }
    },
    {
      "cell_type": "code",
      "source": [
        "sleep_model_reml = fit(\n",
        "  MixedModel,\n",
        "  @formula(reaction ~ days + (1 | subj)),\n",
        "  sleepstudy;\n",
        "  REML = true\n",
        ")\n",
        "println(sleep_model_reml)"
      ],
      "metadata": {
        "colab": {
          "base_uri": "https://localhost:8080/"
        },
        "id": "7ysuet1CO-W5",
        "outputId": "1d060465-4e80-4e16-d6fa-c6d4ea7d5bfe"
      },
      "execution_count": null,
      "outputs": [
        {
          "output_type": "stream",
          "name": "stdout",
          "text": [
            "Linear mixed model fit by REML\n",
            " reaction ~ 1 + days + (1 | subj)\n",
            " REML criterion at convergence: 1786.4650853949372\n",
            "\n",
            "Variance components:\n",
            "            Column    Variance Std.Dev.\n",
            "subj     (Intercept)  1378.1785 37.1238\n",
            "Residual               960.4566 30.9912\n",
            " Number of obs: 180; levels of grouping factors: 18\n",
            "\n",
            "  Fixed-effects parameters:\n",
            "──────────────────────────────────────────────────\n",
            "                Coef.  Std. Error      z  Pr(>|z|)\n",
            "──────────────────────────────────────────────────\n",
            "(Intercept)  251.405     9.74672   25.79    <1e-99\n",
            "days          10.4673    0.804221  13.02    <1e-38\n",
            "──────────────────────────────────────────────────\n"
          ]
        }
      ]
    },
    {
      "cell_type": "markdown",
      "source": [
        "For comparison, here's the R model's `summary()` (truncated):\n",
        "\n",
        "```r\n",
        "sleep_model <- lmer(Reaction ~ Days + (1 | Subject), lme4::sleepstudy)\n",
        "summary(sleep_model)\n",
        "#> Random effects:\n",
        "#>  Groups   Name        Variance Std.Dev.\n",
        "#>  Subject  (Intercept) 1378.2   37.12   \n",
        "#>  Residual              960.5   30.99   \n",
        "#> Number of obs: 180, groups:  Subject, 18\n",
        "#>\n",
        "#> Fixed effects:\n",
        "#>             Estimate Std. Error t value\n",
        "#> (Intercept) 251.4051     9.7467   25.79\n",
        "#> Days         10.4673     0.8042   13.02\n",
        "```"
      ],
      "metadata": {
        "id": "IWRvYwcauIN1"
      }
    },
    {
      "cell_type": "markdown",
      "source": [
        "# 3) A two-language workflow"
      ],
      "metadata": {
        "id": "2IOOBVuOY44A"
      }
    },
    {
      "cell_type": "markdown",
      "source": [
        "In an ideal world, we would all simply learn Julia. The problem is, nobody has time for that.\n",
        "\n",
        "But there's a good middle ground. We leverage the following two facts:\n",
        "\n",
        "1) In linguistics/psychology/cogsci research, fitting (confirmatory) models is largely an *isolated* task.\n",
        "\n",
        "2) MixedModels.jl in Julia and lme4 in R are written for the same *audiences* (primarily researchers) and *usecases* (primarily, causal inference for experimental research).\n",
        "\n",
        "In a nutshell, the proposal is to build a workflow that uses **MixedModels.jl as a drop-in replacement for lme4**, with minimal disruption to the existing R workflow. We can imagine the following division of labor (R on the left, Julia on the right)\n",
        "\n",
        "<img src=\"https://i.imgur.com/XdhoclQ.png\" width=\"40%\">\n",
        "\n",
        "We've covered the basic syntax for fitting models in Julia (and you'll quickly pick up the rest if you already have experience with `lme4`). Now we go over the task of transferring data between R and Julia."
      ],
      "metadata": {
        "id": "eAYsDv7_QKAO"
      }
    },
    {
      "cell_type": "markdown",
      "source": [
        "# 4) Demo\n",
        "\n",
        "In the spirit of \"frictionless integration\", I'll demo a way of working with R and Julia simultaneously inside RStudio. No need to pick up a whole new IDE (and no need to learn Julia beyond MixedModels.jl).\n",
        "\n",
        "**Note**: At this point, you may choose to follow along in RStudio if you've completed the setup in (1d) and can run Julia from the RStudio terminal. Otherwise, you can keep running Julia code from the notebook."
      ],
      "metadata": {
        "id": "GSF6E6__vuRG"
      }
    },
    {
      "cell_type": "markdown",
      "source": [
        "## 4a) Julia in RStudio\n",
        "\n",
        "### **Opening Julia in RStudio**\n",
        "\n",
        "Go to the Terminal tab of the console panel, type in \"julia\" and enter. This should open the Julia REPL:\n",
        "\n",
        "```shell\n",
        "               _\n",
        "   _       _ _(_)_     |  Documentation: https://docs.julialang.org\n",
        "  (_)     | (_) (_)    |\n",
        "   _ _   _| |_  __ _   |  Type \"?\" for help, \"]?\" for Pkg help.\n",
        "  | | | | | | |/ _` |  |\n",
        "  | | |_| | | | (_| |  |  Version 1.10.0-rc1 (2023-11-03)\n",
        " _/ |\\__'_|_|_|\\__'_|  |  Official https://julialang.org/ release\n",
        "|__/                   |\n",
        "\n",
        "julia>\n",
        "```\n",
        "\n",
        "If you do not see a Terminal tab, try `Alt + Shift + R`, or search from the [command palette](https://docs.posit.co/ide/user/ide/guide/ui/command-palette.html).\n",
        "\n",
        "### **Creating and opening Julia file from RStudio**\n",
        "\n",
        "Simply run the following lines of R code:\n",
        "\n",
        "```r\n",
        "file.create(\"script.jl\")\n",
        "file.edit(\"script.jl\") # Or double click from RStudio \"Files\" tab\n",
        "```\n",
        "\n",
        "Note that if you start Julia from RStudio terminal, the R session and the Julia session will share the same working directory, which is nice!\n",
        "\n",
        "### **Useful keyboard shortcuts**\n",
        "\n",
        "RStudio provides the following shortcuts to switch between console-terminal and to send code to terminal:\n",
        "\n",
        "- **“Send Selection to Terminal”**: Sends the highlighted selection (or current line) to terminal.\n",
        "  - I keybind this to `Ctrl + Alt + Enter`\n",
        "- **“Move Focus to Terminal”**: Switches to the terminal tab in the console panel.\n",
        "  - I keybind this to `Ctrl + Alt + RightArrow`\n",
        "- **“Move Focus to Console”**: Switches to the console tab in the console panel.\n",
        "  - I keybind this to `Ctrl + Alt + LeftArrow`\n",
        "- **\"Switch Focus Between Source and Console\"**: Switches between script to console/terminal\n",
        "  - I keybind this to `Alt + DownArrow`\n"
      ],
      "metadata": {
        "id": "oPBkIZ1WYxNb"
      }
    },
    {
      "cell_type": "markdown",
      "source": [
        "## 4b) Getting the data from R to Julia\n",
        "\n",
        "We can transfer data from R to Julia by simply *writing to a file from R*, and *reading in the file from Julia*.\n",
        "\n",
        "In the case of a dataframe, we can use a csv."
      ],
      "metadata": {
        "id": "IWTymcMmxCq-"
      }
    },
    {
      "cell_type": "markdown",
      "source": [
        "So instead of fitting a model on the prepared data in R:\n",
        "\n",
        "```r\n",
        "model_data <- ...\n",
        "model <- lmer(y ~ x + (1 | z), model_data)\n",
        "```\n",
        "\n",
        "You'd firstly write out the data in R:\n",
        "\n",
        "```r\n",
        "write.csv(model_data, \"model_data.csv\")\n",
        "```\n",
        "\n",
        "And then read it back in to fit the model in Julia:\n",
        "\n",
        "```julia\n",
        "# We use additional packaged to data from CSV into a data frame\n",
        "using CSV\n",
        "using DataFrames\n",
        "model_data = CSV.read(\"model_data.csv\", DataFrame)\n",
        "\n",
        "# Fit model to data using the MixedModels package\n",
        "using MixedModels\n",
        "model = fit(MixedModel, @formula(y ~ x + (1 | z)), model_data)\n",
        "```\n"
      ],
      "metadata": {
        "id": "KUsB3fmvyA0v"
      }
    },
    {
      "cell_type": "markdown",
      "source": [
        "---\n",
        "In this notebook, we'll imagine that we've already done data processing/cleaning and have written out our file from R, to pick the modelling part back up in Julia. The data we're loading in now comes from [a prior research of mine](https://escholarship.org/uc/item/5d84n2x7) where I reported the following logistic mixed effects model:\n",
        "\n",
        "```r\n",
        "glmer(\n",
        "  Accuracy ~ PitchAccent + SemanticFit + TransitivityBias +\n",
        "             (1 + PitchAccent || Subject) + (1 | Item),\n",
        "  data = speeded_comprehension,\n",
        "  family = \"binomial\"\n",
        ")\n",
        "```\n",
        "\n",
        "The R data frame `speeded_comprehension` has the following columns:\n",
        "- `Accuracy`: 1 or 0 (response variable)\n",
        "- `Subject`: Participants (grouping variable)\n",
        "- `Item`: Sentences (grouping variable)\n",
        "- `PitchAccent`: 2-level experimental factor, between-subjects/item\n",
        "- `SemanticFit`: centered within-item norming score (continuous)\n",
        "- `TransitivityBias`: centered within-item norming score (continuous)\n",
        "\n",
        "```r\n",
        "head(speeded_comprehension)\n",
        "#> # A tibble: 6 × 6\n",
        "#>   Accuracy Subject Item     PitchAccent SemanticFit TransitivityBias\n",
        "#>      <dbl> <fct>   <chr>          <dbl>       <dbl>            <dbl>\n",
        "#> 1        1 S01     Awakened           1     -0.296            -1.22\n",
        "#> 2        1 S01     Calmed             1      0.0988           -0.410\n",
        "#> 3        1 S01     Choked             1      1.28             -1.43\n",
        "#> 4        1 S01     Dressed           -1     -0.593            -1.21\n",
        "#> 5        1 S01     Failed            -1     -0.988             0.110\n",
        "#> 6        1 S01     Groomed           -1     -1.09              0.989\n",
        "```\n",
        "\n",
        "In an actual workflow, we'd save this modelling-ready data out to a csv:\n",
        "\n",
        "```r\n",
        "write_csv(speeded_comprehension, \"speeded_comprehension.csv\")\n",
        "```\n",
        "\n",
        "For the purposes of this demo, we'll simply downloaded the file from the web into colab, to load into Julia in the next step:"
      ],
      "metadata": {
        "id": "GiLluhwSYyuF"
      }
    },
    {
      "cell_type": "code",
      "source": [
        "download(\"https://raw.githubusercontent.com/yjunechoe/MindCORE-julia-mixedmodels/main/speeded_comprehension.csv\", \"speeded_comprehension.csv\")"
      ],
      "metadata": {
        "id": "BSHH3tCV9b9e",
        "colab": {
          "base_uri": "https://localhost:8080/"
        },
        "outputId": "e4c6a0e2-1e56-4e5c-b160-bb552f419af6"
      },
      "execution_count": null,
      "outputs": [
        {
          "output_type": "execute_result",
          "data": {
            "text/plain": [
              "\"speeded_comprehension.csv\""
            ]
          },
          "metadata": {},
          "execution_count": 8
        }
      ]
    },
    {
      "cell_type": "markdown",
      "source": [
        "## 4c) Fitting models in Julia"
      ],
      "metadata": {
        "id": "Nj4Ynf95GkaS"
      }
    },
    {
      "cell_type": "code",
      "source": [
        "using CSV\n",
        "using DataFrames\n",
        "using MixedModels\n",
        "\n",
        "# Read CSV as a data frame\n",
        "speeded_comprehension = CSV.read(\"speeded_comprehension.csv\", DataFrame)"
      ],
      "metadata": {
        "id": "2A3psdyDowpj",
        "colab": {
          "base_uri": "https://localhost:8080/",
          "height": 652
        },
        "outputId": "e05fd8d5-7df7-42a1-f173-5a312f8d9a03"
      },
      "execution_count": null,
      "outputs": [
        {
          "output_type": "execute_result",
          "data": {
            "text/plain": [
              "\u001b[1m1438×6 DataFrame\u001b[0m\n",
              "\u001b[1m  Row \u001b[0m│\u001b[1m Accuracy \u001b[0m\u001b[1m Subject \u001b[0m\u001b[1m Item      \u001b[0m\u001b[1m PitchAccent \u001b[0m\u001b[1m SemanticFit \u001b[0m\u001b[1m TransitivityBias \u001b[0m\n",
              "      │\u001b[90m Int64    \u001b[0m\u001b[90m String3 \u001b[0m\u001b[90m String15  \u001b[0m\u001b[90m Int64       \u001b[0m\u001b[90m Float64     \u001b[0m\u001b[90m Float64          \u001b[0m\n",
              "──────┼──────────────────────────────────────────────────────────────────────────\n",
              "    1 │        1  S01      Awakened            -1   -0.296312          -1.22009\n",
              "    2 │        1  S01      Calmed              -1    0.0987707         -0.410233\n",
              "    3 │        1  S01      Choked              -1    1.28402           -1.42849\n",
              "    4 │        1  S01      Dressed              1   -0.592624          -1.20872\n",
              "    5 │        1  S01      Failed               1   -0.987707           0.109884\n",
              "    6 │        0  S01      Groomed              1   -1.08648            0.988955\n",
              "    7 │        0  S01      Healed               1    0.0987707         -0.371332\n",
              "    8 │        1  S01      Hides                1    0.691395          -0.159142\n",
              "    9 │        0  S01      Improved            -1    0.0987707          0.820466\n",
              "   10 │        0  S01      Lifts                1    1.6791             1.33326\n",
              "   11 │        1  S01      Lost                 1   -0.395083           1.0079\n",
              "  ⋮   │    ⋮         ⋮         ⋮           ⋮            ⋮              ⋮\n",
              " 1429 │        0  S61      Rolled              -1   -1.77787            0.219768\n",
              " 1430 │        1  S61      Rushed              -1    0.395083          -0.968606\n",
              " 1431 │        1  S61      Smelled             -1    1.38279            0.109884\n",
              " 1432 │        1  S61      Spun                 1    0.987707          -0.477427\n",
              " 1433 │        1  S61      Stopped              1    0.0               -1.53837\n",
              " 1434 │        0  S61      Trained             -1   -0.888937          -0.355009\n",
              " 1435 │        1  S61      Tripped              1    0.592624          -1.53837\n",
              " 1436 │        1  S61      Washed              -1    0.493854           1.20872\n",
              " 1437 │        1  S61      Weakens              1   -0.888937           0.159142\n",
              " 1438 │        1  S61      Worried              1    0.197541          -1.53837\n",
              "\u001b[36m                                                                1417 rows omitted\u001b[0m"
            ],
            "text/html": [
              "<div><div style = \"float: left;\"><span>1438×6 DataFrame</span></div><div style = \"float: right;\"><span style = \"font-style: italic;\">1413 rows omitted</span></div><div style = \"clear: both;\"></div></div><div class = \"data-frame\" style = \"overflow-x: scroll;\"><table class = \"data-frame\" style = \"margin-bottom: 6px;\"><thead><tr class = \"header\"><th class = \"rowNumber\" style = \"font-weight: bold; text-align: right;\">Row</th><th style = \"text-align: left;\">Accuracy</th><th style = \"text-align: left;\">Subject</th><th style = \"text-align: left;\">Item</th><th style = \"text-align: left;\">PitchAccent</th><th style = \"text-align: left;\">SemanticFit</th><th style = \"text-align: left;\">TransitivityBias</th></tr><tr class = \"subheader headerLastRow\"><th class = \"rowNumber\" style = \"font-weight: bold; text-align: right;\"></th><th title = \"Int64\" style = \"text-align: left;\">Int64</th><th title = \"String3\" style = \"text-align: left;\">String3</th><th title = \"String15\" style = \"text-align: left;\">String15</th><th title = \"Int64\" style = \"text-align: left;\">Int64</th><th title = \"Float64\" style = \"text-align: left;\">Float64</th><th title = \"Float64\" style = \"text-align: left;\">Float64</th></tr></thead><tbody><tr><td class = \"rowNumber\" style = \"font-weight: bold; text-align: right;\">1</td><td style = \"text-align: right;\">1</td><td style = \"text-align: left;\">S01</td><td style = \"text-align: left;\">Awakened</td><td style = \"text-align: right;\">-1</td><td style = \"text-align: right;\">-0.296312</td><td style = \"text-align: right;\">-1.22009</td></tr><tr><td class = \"rowNumber\" style = \"font-weight: bold; text-align: right;\">2</td><td style = \"text-align: right;\">1</td><td style = \"text-align: left;\">S01</td><td style = \"text-align: left;\">Calmed</td><td style = \"text-align: right;\">-1</td><td style = \"text-align: right;\">0.0987707</td><td style = \"text-align: right;\">-0.410233</td></tr><tr><td class = \"rowNumber\" style = \"font-weight: bold; text-align: right;\">3</td><td style = \"text-align: right;\">1</td><td style = \"text-align: left;\">S01</td><td style = \"text-align: left;\">Choked</td><td style = \"text-align: right;\">-1</td><td style = \"text-align: right;\">1.28402</td><td style = \"text-align: right;\">-1.42849</td></tr><tr><td class = \"rowNumber\" style = \"font-weight: bold; text-align: right;\">4</td><td style = \"text-align: right;\">1</td><td style = \"text-align: left;\">S01</td><td style = \"text-align: left;\">Dressed</td><td style = \"text-align: right;\">1</td><td style = \"text-align: right;\">-0.592624</td><td style = \"text-align: right;\">-1.20872</td></tr><tr><td class = \"rowNumber\" style = \"font-weight: bold; text-align: right;\">5</td><td style = \"text-align: right;\">1</td><td style = \"text-align: left;\">S01</td><td style = \"text-align: left;\">Failed</td><td style = \"text-align: right;\">1</td><td style = \"text-align: right;\">-0.987707</td><td style = \"text-align: right;\">0.109884</td></tr><tr><td class = \"rowNumber\" style = \"font-weight: bold; text-align: right;\">6</td><td style = \"text-align: right;\">0</td><td style = \"text-align: left;\">S01</td><td style = \"text-align: left;\">Groomed</td><td style = \"text-align: right;\">1</td><td style = \"text-align: right;\">-1.08648</td><td style = \"text-align: right;\">0.988955</td></tr><tr><td class = \"rowNumber\" style = \"font-weight: bold; text-align: right;\">7</td><td style = \"text-align: right;\">0</td><td style = \"text-align: left;\">S01</td><td style = \"text-align: left;\">Healed</td><td style = \"text-align: right;\">1</td><td style = \"text-align: right;\">0.0987707</td><td style = \"text-align: right;\">-0.371332</td></tr><tr><td class = \"rowNumber\" style = \"font-weight: bold; text-align: right;\">8</td><td style = \"text-align: right;\">1</td><td style = \"text-align: left;\">S01</td><td style = \"text-align: left;\">Hides</td><td style = \"text-align: right;\">1</td><td style = \"text-align: right;\">0.691395</td><td style = \"text-align: right;\">-0.159142</td></tr><tr><td class = \"rowNumber\" style = \"font-weight: bold; text-align: right;\">9</td><td style = \"text-align: right;\">0</td><td style = \"text-align: left;\">S01</td><td style = \"text-align: left;\">Improved</td><td style = \"text-align: right;\">-1</td><td style = \"text-align: right;\">0.0987707</td><td style = \"text-align: right;\">0.820466</td></tr><tr><td class = \"rowNumber\" style = \"font-weight: bold; text-align: right;\">10</td><td style = \"text-align: right;\">0</td><td style = \"text-align: left;\">S01</td><td style = \"text-align: left;\">Lifts</td><td style = \"text-align: right;\">1</td><td style = \"text-align: right;\">1.6791</td><td style = \"text-align: right;\">1.33326</td></tr><tr><td class = \"rowNumber\" style = \"font-weight: bold; text-align: right;\">11</td><td style = \"text-align: right;\">1</td><td style = \"text-align: left;\">S01</td><td style = \"text-align: left;\">Lost</td><td style = \"text-align: right;\">1</td><td style = \"text-align: right;\">-0.395083</td><td style = \"text-align: right;\">1.0079</td></tr><tr><td class = \"rowNumber\" style = \"font-weight: bold; text-align: right;\">12</td><td style = \"text-align: right;\">1</td><td style = \"text-align: left;\">S01</td><td style = \"text-align: left;\">Missed</td><td style = \"text-align: right;\">-1</td><td style = \"text-align: right;\">1.48156</td><td style = \"text-align: right;\">1.31861</td></tr><tr><td class = \"rowNumber\" style = \"font-weight: bold; text-align: right;\">13</td><td style = \"text-align: right;\">0</td><td style = \"text-align: left;\">S01</td><td style = \"text-align: left;\">Moved</td><td style = \"text-align: right;\">-1</td><td style = \"text-align: right;\">1.48156</td><td style = \"text-align: right;\">-1.33326</td></tr><tr><td style = \"text-align: right;\">&vellip;</td><td style = \"text-align: right;\">&vellip;</td><td style = \"text-align: right;\">&vellip;</td><td style = \"text-align: right;\">&vellip;</td><td style = \"text-align: right;\">&vellip;</td><td style = \"text-align: right;\">&vellip;</td><td style = \"text-align: right;\">&vellip;</td></tr><tr><td class = \"rowNumber\" style = \"font-weight: bold; text-align: right;\">1427</td><td style = \"text-align: right;\">1</td><td style = \"text-align: left;\">S61</td><td style = \"text-align: left;\">Moved</td><td style = \"text-align: right;\">-1</td><td style = \"text-align: right;\">1.48156</td><td style = \"text-align: right;\">-1.33326</td></tr><tr><td class = \"rowNumber\" style = \"font-weight: bold; text-align: right;\">1428</td><td style = \"text-align: right;\">1</td><td style = \"text-align: left;\">S61</td><td style = \"text-align: left;\">Recovered</td><td style = \"text-align: right;\">-1</td><td style = \"text-align: right;\">-2.07419</td><td style = \"text-align: right;\">-0.769187</td></tr><tr><td class = \"rowNumber\" style = \"font-weight: bold; text-align: right;\">1429</td><td style = \"text-align: right;\">0</td><td style = \"text-align: left;\">S61</td><td style = \"text-align: left;\">Rolled</td><td style = \"text-align: right;\">-1</td><td style = \"text-align: right;\">-1.77787</td><td style = \"text-align: right;\">0.219768</td></tr><tr><td class = \"rowNumber\" style = \"font-weight: bold; text-align: right;\">1430</td><td style = \"text-align: right;\">1</td><td style = \"text-align: left;\">S61</td><td style = \"text-align: left;\">Rushed</td><td style = \"text-align: right;\">-1</td><td style = \"text-align: right;\">0.395083</td><td style = \"text-align: right;\">-0.968606</td></tr><tr><td class = \"rowNumber\" style = \"font-weight: bold; text-align: right;\">1431</td><td style = \"text-align: right;\">1</td><td style = \"text-align: left;\">S61</td><td style = \"text-align: left;\">Smelled</td><td style = \"text-align: right;\">-1</td><td style = \"text-align: right;\">1.38279</td><td style = \"text-align: right;\">0.109884</td></tr><tr><td class = \"rowNumber\" style = \"font-weight: bold; text-align: right;\">1432</td><td style = \"text-align: right;\">1</td><td style = \"text-align: left;\">S61</td><td style = \"text-align: left;\">Spun</td><td style = \"text-align: right;\">1</td><td style = \"text-align: right;\">0.987707</td><td style = \"text-align: right;\">-0.477427</td></tr><tr><td class = \"rowNumber\" style = \"font-weight: bold; text-align: right;\">1433</td><td style = \"text-align: right;\">1</td><td style = \"text-align: left;\">S61</td><td style = \"text-align: left;\">Stopped</td><td style = \"text-align: right;\">1</td><td style = \"text-align: right;\">0.0</td><td style = \"text-align: right;\">-1.53837</td></tr><tr><td class = \"rowNumber\" style = \"font-weight: bold; text-align: right;\">1434</td><td style = \"text-align: right;\">0</td><td style = \"text-align: left;\">S61</td><td style = \"text-align: left;\">Trained</td><td style = \"text-align: right;\">-1</td><td style = \"text-align: right;\">-0.888937</td><td style = \"text-align: right;\">-0.355009</td></tr><tr><td class = \"rowNumber\" style = \"font-weight: bold; text-align: right;\">1435</td><td style = \"text-align: right;\">1</td><td style = \"text-align: left;\">S61</td><td style = \"text-align: left;\">Tripped</td><td style = \"text-align: right;\">1</td><td style = \"text-align: right;\">0.592624</td><td style = \"text-align: right;\">-1.53837</td></tr><tr><td class = \"rowNumber\" style = \"font-weight: bold; text-align: right;\">1436</td><td style = \"text-align: right;\">1</td><td style = \"text-align: left;\">S61</td><td style = \"text-align: left;\">Washed</td><td style = \"text-align: right;\">-1</td><td style = \"text-align: right;\">0.493854</td><td style = \"text-align: right;\">1.20872</td></tr><tr><td class = \"rowNumber\" style = \"font-weight: bold; text-align: right;\">1437</td><td style = \"text-align: right;\">1</td><td style = \"text-align: left;\">S61</td><td style = \"text-align: left;\">Weakens</td><td style = \"text-align: right;\">1</td><td style = \"text-align: right;\">-0.888937</td><td style = \"text-align: right;\">0.159142</td></tr><tr><td class = \"rowNumber\" style = \"font-weight: bold; text-align: right;\">1438</td><td style = \"text-align: right;\">1</td><td style = \"text-align: left;\">S61</td><td style = \"text-align: left;\">Worried</td><td style = \"text-align: right;\">1</td><td style = \"text-align: right;\">0.197541</td><td style = \"text-align: right;\">-1.53837</td></tr></tbody></table></div>"
            ],
            "text/latex": "\\begin{tabular}{r|cccccc}\n\t& Accuracy & Subject & Item & PitchAccent & SemanticFit & TransitivityBias\\\\\n\t\\hline\n\t& Int64 & String3 & String15 & Int64 & Float64 & Float64\\\\\n\t\\hline\n\t1 & 1 & S01 & Awakened & -1 & -0.296312 & -1.22009 \\\\\n\t2 & 1 & S01 & Calmed & -1 & 0.0987707 & -0.410233 \\\\\n\t3 & 1 & S01 & Choked & -1 & 1.28402 & -1.42849 \\\\\n\t4 & 1 & S01 & Dressed & 1 & -0.592624 & -1.20872 \\\\\n\t5 & 1 & S01 & Failed & 1 & -0.987707 & 0.109884 \\\\\n\t6 & 0 & S01 & Groomed & 1 & -1.08648 & 0.988955 \\\\\n\t7 & 0 & S01 & Healed & 1 & 0.0987707 & -0.371332 \\\\\n\t8 & 1 & S01 & Hides & 1 & 0.691395 & -0.159142 \\\\\n\t9 & 0 & S01 & Improved & -1 & 0.0987707 & 0.820466 \\\\\n\t10 & 0 & S01 & Lifts & 1 & 1.6791 & 1.33326 \\\\\n\t11 & 1 & S01 & Lost & 1 & -0.395083 & 1.0079 \\\\\n\t12 & 1 & S01 & Missed & -1 & 1.48156 & 1.31861 \\\\\n\t13 & 0 & S01 & Moved & -1 & 1.48156 & -1.33326 \\\\\n\t14 & 1 & S01 & Recovered & -1 & -2.07419 & -0.769187 \\\\\n\t15 & 0 & S01 & Rolled & -1 & -1.77787 & 0.219768 \\\\\n\t16 & 1 & S01 & Rushed & -1 & 0.395083 & -0.968606 \\\\\n\t17 & 1 & S01 & Smelled & -1 & 1.38279 & 0.109884 \\\\\n\t18 & 0 & S01 & Spun & 1 & 0.987707 & -0.477427 \\\\\n\t19 & 1 & S01 & Stopped & 1 & 0.0 & -1.53837 \\\\\n\t20 & 1 & S01 & Trained & -1 & -0.888937 & -0.355009 \\\\\n\t21 & 1 & S01 & Tripped & 1 & 0.592624 & -1.53837 \\\\\n\t22 & 1 & S01 & Washed & -1 & 0.493854 & 1.20872 \\\\\n\t23 & 0 & S01 & Weakens & 1 & -0.888937 & 0.159142 \\\\\n\t24 & 0 & S01 & Worried & 1 & 0.197541 & -1.53837 \\\\\n\t25 & 1 & S02 & Awakened & -1 & -0.296312 & -1.22009 \\\\\n\t26 & 1 & S02 & Choked & -1 & 1.28402 & -1.42849 \\\\\n\t27 & 1 & S02 & Dressed & 1 & -0.592624 & -1.20872 \\\\\n\t28 & 1 & S02 & Failed & 1 & -0.987707 & 0.109884 \\\\\n\t29 & 1 & S02 & Groomed & 1 & -1.08648 & 0.988955 \\\\\n\t30 & 1 & S02 & Healed & 1 & 0.0987707 & -0.371332 \\\\\n\t$\\dots$ & $\\dots$ & $\\dots$ & $\\dots$ & $\\dots$ & $\\dots$ & $\\dots$ \\\\\n\\end{tabular}\n"
          },
          "metadata": {},
          "execution_count": 9
        }
      ]
    },
    {
      "cell_type": "code",
      "source": [
        "# Replicated model\n",
        "model = fit(\n",
        "  MixedModel,\n",
        "  @formula(Accuracy ~ PitchAccent + SemanticFit + TransitivityBias +\n",
        "                      zerocorr(1 + PitchAccent | Subject) + (1| Item)),\n",
        "  speeded_comprehension,\n",
        "  Bernoulli()\n",
        ")"
      ],
      "metadata": {
        "id": "fFK0XXZKpP1h",
        "colab": {
          "base_uri": "https://localhost:8080/",
          "height": 296
        },
        "outputId": "b2b1f1f1-236c-42de-a5fd-ba0b4d3a0ac0"
      },
      "execution_count": null,
      "outputs": [
        {
          "output_type": "stream",
          "name": "stderr",
          "text": [
            "\u001b[32mMinimizing 2    Time: 0:00:00 ( 0.15  s/it)\u001b[39m\n",
            "\u001b[A\n",
            "\u001b[32mMinimizing 53    Time: 0:00:00 ( 7.50 ms/it)\u001b[39m\n",
            "\u001b[A\n",
            "\u001b[32mMinimizing 104    Time: 0:00:00 ( 4.79 ms/it)\u001b[39m\n",
            "\u001b[A\n",
            "\u001b[32mMinimizing 108    Time: 0:00:00 ( 4.72 ms/it)\u001b[39m\n"
          ]
        },
        {
          "output_type": "execute_result",
          "data": {
            "text/plain": [
              "Generalized Linear Mixed Model fit by maximum likelihood (nAGQ = 1)\n",
              "  Accuracy ~ 1 + PitchAccent + SemanticFit + TransitivityBias + zerocorr(1 + PitchAccent | Subject) + (1 | Item)\n",
              "  Distribution: Bernoulli{Float64}\n",
              "  Link: LogitLink()\n",
              "\n",
              "   logLik    deviance     AIC       AICc        BIC    \n",
              "  -635.3637  1270.7274  1284.7274  1284.8058  1321.6245\n",
              "\n",
              "Variance components:\n",
              "           Column   Variance Std.Dev.   Corr.\n",
              "Subject (Intercept)  0.927212 0.962918\n",
              "        PitchAccent  0.029187 0.170841   .  \n",
              "Item    (Intercept)  0.418036 0.646557\n",
              "\n",
              " Number of obs: 1438; levels of grouping factors: 61, 24\n",
              "\n",
              "Fixed-effects parameters:\n",
              "────────────────────────────────────────────────────────\n",
              "                      Coef.  Std. Error      z  Pr(>|z|)\n",
              "────────────────────────────────────────────────────────\n",
              "(Intercept)        1.71928    0.201527    8.53    <1e-16\n",
              "PitchAccent       -0.194649   0.0775016  -2.51    0.0120\n",
              "SemanticFit        0.445586   0.151357    2.94    0.0032\n",
              "TransitivityBias  -0.208839   0.159787   -1.31    0.1912\n",
              "────────────────────────────────────────────────────────"
            ],
            "text/markdown": "|                  |    Est. |     SE |     z |      p | σ_Subject | σ_Item |\n|:---------------- | -------:| ------:| -----:| ------:| ---------:| ------:|\n| (Intercept)      |  1.7193 | 0.2015 |  8.53 | <1e-16 |    0.9629 | 0.6466 |\n| PitchAccent      | -0.1946 | 0.0775 | -2.51 | 0.0120 |    0.1708 |        |\n| SemanticFit      |  0.4456 | 0.1514 |  2.94 | 0.0032 |           |        |\n| TransitivityBias | -0.2088 | 0.1598 | -1.31 | 0.1912 |           |        |\n",
            "text/latex": "\\begin{tabular}\n{l | r | r | r | r | r | r}\n & Est. & SE & z & p & $\\sigma_\\text{Subject}$ & $\\sigma_\\text{Item}$ \\\\\n\\hline\n(Intercept) & 1.7193 & 0.2015 & 8.53 & <1e-16 & 0.9629 & 0.6466 \\\\\nPitchAccent & -0.1946 & 0.0775 & -2.51 & 0.0120 & 0.1708 &   \\\\\nSemanticFit & 0.4456 & 0.1514 & 2.94 & 0.0032 &   &   \\\\\nTransitivityBias & -0.2088 & 0.1598 & -1.31 & 0.1912 &   &   \\\\\n\\end{tabular}\n"
          },
          "metadata": {},
          "execution_count": 10
        }
      ]
    },
    {
      "cell_type": "markdown",
      "source": [
        "Compare to the results from R:\n",
        "\n",
        "```r\n",
        "glmer(\n",
        "  Accuracy ~ PitchAccent + SemanticFit + TransitivityBias +\n",
        "             (1 + PitchAccent || Subject) + (1| Item),\n",
        "  data = speeded_comprehension,\n",
        "  family = \"binomial\"\n",
        ")\n",
        "```\n",
        "\n",
        "|              | Estimate (SE) | t     | p      |\n",
        "|--------------|---------------|-------|--------|\n",
        "| (Intercept)  |  1.72 (0.21)  |  8.36 | **>0.001** |\n",
        "| PitchAccent  | –0.19 (0.08)  | –2.50 | **0.0123** |\n",
        "| SemanticFit  | 0.44 (0.15)  |  2.94 | **0.0033** |\n",
        "| TransitivityBias | –0.19 (0.16)  | –1.31 | 0.1910 |"
      ],
      "metadata": {
        "id": "R3KJHOqIqeW9"
      }
    },
    {
      "cell_type": "markdown",
      "source": [
        "Julia/MixedModels is faster and more powerful than R/lme4.*\n",
        "\n",
        "<details>\n",
        "<summary>*The fineprint</summary>\n",
        "The performance gap is a combination of differences in language design (R vs. Julia), in the MEM implementation (lme4 vs. R), and in the default <a hredf=\"https://en.wikipedia.org/wiki/Basic_Linear_Algebra_Subprograms\">BLAS</a> shipped with each language (OpenBLAS vs. XBLAS). So it's not just \"R is slower\", and there <em>are</em> real tradeoffs in using Julia (namely, <a href=\"https://en.wikipedia.org/wiki/Just-in-time_compilation\">JIT</a> and pkg precompilation). There are ways of making R/lme4 faster by <a href=\"https://cran.r-project.org/doc/manuals/r-devel/R-admin.html#BLAS\">changing some defaults</a>, but IMO this is less accessible than simply learning Julia/MixedModels.jl and using <em>its</em> defaults.\n",
        "<strong>FYI</strong>, it's easy to switch out BLAS implementations in Julia: you may see further speed improvements with <a href=\"https://github.com/JuliaLinearAlgebra/MKL.jl\">MKL</a> (for Intel cores) and <a href=\"https://github.com/JuliaLinearAlgebra/AppleAccelerate.jl\">AppleAccelerate</a> (for MacOS)\n",
        "</details>\n",
        "\n",
        "It also lets us fit the model with maximal RE structure, which fails to converge in R:"
      ],
      "metadata": {
        "id": "F_onqUhIqq-b"
      }
    },
    {
      "cell_type": "code",
      "source": [
        "model_max = fit(\n",
        "  MixedModel,\n",
        "  @formula(Accuracy ~ PitchAccent + SemanticFit + TransitivityBias +\n",
        "                      (1 + PitchAccent + SemanticFit + TransitivityBias | Subject) +\n",
        "                      (1 + PitchAccent | Item)),\n",
        "  speeded_comprehension,\n",
        "  Bernoulli();\n",
        "  progress = false\n",
        ")\n",
        "model_max"
      ],
      "metadata": {
        "id": "cvh5-jLtq3rG",
        "colab": {
          "base_uri": "https://localhost:8080/",
          "height": 174
        },
        "outputId": "044bff26-045b-4a78-8d75-4290dd43d65f"
      },
      "execution_count": null,
      "outputs": [
        {
          "output_type": "execute_result",
          "data": {
            "text/plain": [
              "Generalized Linear Mixed Model fit by maximum likelihood (nAGQ = 1)\n",
              "  Accuracy ~ 1 + PitchAccent + SemanticFit + TransitivityBias + (1 + PitchAccent + SemanticFit + TransitivityBias | Subject) + (1 + PitchAccent | Item)\n",
              "  Distribution: Bernoulli{Float64}\n",
              "  Link: LogitLink()\n",
              "\n",
              "   logLik    deviance     AIC       AICc        BIC    \n",
              "  -633.5114  1267.0227  1301.0227  1301.4537  1390.6299\n",
              "\n",
              "Variance components:\n",
              "             Column       Variance  Std.Dev.   Corr.\n",
              "Subject (Intercept)       1.0021195 1.0010592\n",
              "        PitchAccent       0.0543673 0.2331680 -0.62\n",
              "        SemanticFit       0.0119795 0.1094507 +1.00 -0.55\n",
              "        TransitivityBias  0.0091180 0.0954881 -0.93 +0.86 -0.90\n",
              "Item    (Intercept)       0.4170966 0.6458302\n",
              "        PitchAccent       0.0004406 0.0209901 -1.00\n",
              "\n",
              " Number of obs: 1438; levels of grouping factors: 61, 24\n",
              "\n",
              "Fixed-effects parameters:\n",
              "────────────────────────────────────────────────────────\n",
              "                      Coef.  Std. Error      z  Pr(>|z|)\n",
              "────────────────────────────────────────────────────────\n",
              "(Intercept)        1.76449    0.205214    8.60    <1e-17\n",
              "PitchAccent       -0.259331   0.0811082  -3.20    0.0014\n",
              "SemanticFit        0.505324   0.15179     3.33    0.0009\n",
              "TransitivityBias  -0.25567    0.159739   -1.60    0.1095\n",
              "────────────────────────────────────────────────────────"
            ],
            "text/markdown": "|                  |    Est. |     SE |     z |      p | σ_Subject | σ_Item |\n|:---------------- | -------:| ------:| -----:| ------:| ---------:| ------:|\n| (Intercept)      |  1.7645 | 0.2052 |  8.60 | <1e-17 |    1.0011 | 0.6458 |\n| PitchAccent      | -0.2593 | 0.0811 | -3.20 | 0.0014 |    0.2332 | 0.0210 |\n| SemanticFit      |  0.5053 | 0.1518 |  3.33 | 0.0009 |    0.1095 |        |\n| TransitivityBias | -0.2557 | 0.1597 | -1.60 | 0.1095 |    0.0955 |        |\n",
            "text/latex": "\\begin{tabular}\n{l | r | r | r | r | r | r}\n & Est. & SE & z & p & $\\sigma_\\text{Subject}$ & $\\sigma_\\text{Item}$ \\\\\n\\hline\n(Intercept) & 1.7645 & 0.2052 & 8.60 & <1e-17 & 1.0011 & 0.6458 \\\\\nPitchAccent & -0.2593 & 0.0811 & -3.20 & 0.0014 & 0.2332 & 0.0210 \\\\\nSemanticFit & 0.5053 & 0.1518 & 3.33 & 0.0009 & 0.1095 &   \\\\\nTransitivityBias & -0.2557 & 0.1597 & -1.60 & 0.1095 & 0.0955 &   \\\\\n\\end{tabular}\n"
          },
          "metadata": {},
          "execution_count": 11
        }
      ]
    },
    {
      "cell_type": "markdown",
      "source": [
        "But as is often the case, this maximal model is overparameterized:"
      ],
      "metadata": {
        "id": "7p8gXyQysfFQ"
      }
    },
    {
      "cell_type": "code",
      "source": [
        "issingular(model_max)"
      ],
      "metadata": {
        "id": "9dwqNGyzr_M1",
        "colab": {
          "base_uri": "https://localhost:8080/"
        },
        "outputId": "0162ec55-1a92-44d5-cd90-2d7a0aaa9a08"
      },
      "execution_count": null,
      "outputs": [
        {
          "output_type": "execute_result",
          "data": {
            "text/plain": [
              "true"
            ]
          },
          "metadata": {},
          "execution_count": 12
        }
      ]
    },
    {
      "cell_type": "code",
      "source": [
        "VarCorr(model_max)"
      ],
      "metadata": {
        "id": "YzhUu_Z-_nk9",
        "colab": {
          "base_uri": "https://localhost:8080/",
          "height": 237
        },
        "outputId": "a5937e91-8dff-4a5a-f208-45fb48aaf3a1"
      },
      "execution_count": null,
      "outputs": [
        {
          "output_type": "execute_result",
          "data": {
            "text/plain": [
              "Variance components:\n",
              "             Column       Variance  Std.Dev.   Corr.\n",
              "Subject (Intercept)       1.0021195 1.0010592\n",
              "        PitchAccent       0.0543673 0.2331680 -0.62\n",
              "        SemanticFit       0.0119795 0.1094507 +1.00 -0.55\n",
              "        TransitivityBias  0.0091180 0.0954881 -0.93 +0.86 -0.90\n",
              "Item    (Intercept)       0.4170966 0.6458302\n",
              "        PitchAccent       0.0004406 0.0209901 -1.00\n",
              "\n"
            ],
            "text/markdown": "|         | Column           |  Variance |   Std.Dev | Corr. |       |       |\n|:------- |:---------------- | ---------:| ---------:| -----:| -----:| -----:|\n| Subject | (Intercept)      | 1.0021195 | 1.0010592 |       |       |       |\n|         | PitchAccent      | 0.0543673 | 0.2331680 | -0.62 |       |       |\n|         | SemanticFit      | 0.0119795 | 0.1094507 | +1.00 | -0.55 |       |\n|         | TransitivityBias | 0.0091180 | 0.0954881 | -0.93 | +0.86 | -0.90 |\n| Item    | (Intercept)      | 0.4170966 | 0.6458302 |       |       |       |\n|         | PitchAccent      | 0.0004406 | 0.0209901 | -1.00 |       |       |\n",
            "text/latex": "\\begin{tabular}\n{l | l | r | r | r | r | r}\n  & Column &  Variance & Std.Dev & Corr. &   &   \\\\\n\\hline\nSubject & (Intercept) & 1.0021195 & 1.0010592 &   &   &   \\\\\n  & PitchAccent & 0.0543673 & 0.2331680 & -0.62 &   &   \\\\\n  & SemanticFit & 0.0119795 & 0.1094507 & +1.00 & -0.55 &   \\\\\n  & TransitivityBias & 0.0091180 & 0.0954881 & -0.93 & +0.86 & -0.90 \\\\\nItem & (Intercept) & 0.4170966 & 0.6458302 &   &   &   \\\\\n  & PitchAccent & 0.0004406 & 0.0209901 & -1.00 &   &   \\\\\n\\end{tabular}\n"
          },
          "metadata": {},
          "execution_count": 13
        }
      ]
    },
    {
      "cell_type": "markdown",
      "source": [
        "Turns out that only a modest increase in complexity of the model (just including the extra correlation term) is warranted by the data:"
      ],
      "metadata": {
        "id": "UaqiB7dfs_0Q"
      }
    },
    {
      "cell_type": "code",
      "source": [
        "model_final = fit(\n",
        "  MixedModel,\n",
        "  @formula(Accuracy ~ PitchAccent + SemanticFit + TransitivityBias +\n",
        "                      (1 + PitchAccent | Subject) +\n",
        "                      (1 | Item)),\n",
        "  speeded_comprehension,\n",
        "  Bernoulli();\n",
        "  progress=false\n",
        ")"
      ],
      "metadata": {
        "id": "p5rYF_Z_s_St",
        "colab": {
          "base_uri": "https://localhost:8080/",
          "height": 174
        },
        "outputId": "9a911b05-895c-4e03-faec-b6e43d7c6ed4"
      },
      "execution_count": null,
      "outputs": [
        {
          "output_type": "execute_result",
          "data": {
            "text/plain": [
              "Generalized Linear Mixed Model fit by maximum likelihood (nAGQ = 1)\n",
              "  Accuracy ~ 1 + PitchAccent + SemanticFit + TransitivityBias + (1 + PitchAccent | Subject) + (1 | Item)\n",
              "  Distribution: Bernoulli{Float64}\n",
              "  Link: LogitLink()\n",
              "\n",
              "   logLik    deviance     AIC       AICc        BIC    \n",
              "  -634.6454  1269.2908  1285.2908  1285.3916  1327.4589\n",
              "\n",
              "Variance components:\n",
              "           Column   Variance Std.Dev.   Corr.\n",
              "Subject (Intercept)  0.976389 0.988124\n",
              "        PitchAccent  0.049276 0.221982 -0.61\n",
              "Item    (Intercept)  0.424883 0.651831\n",
              "\n",
              " Number of obs: 1438; levels of grouping factors: 61, 24\n",
              "\n",
              "Fixed-effects parameters:\n",
              "────────────────────────────────────────────────────────\n",
              "                      Coef.  Std. Error      z  Pr(>|z|)\n",
              "────────────────────────────────────────────────────────\n",
              "(Intercept)        1.73901    0.204637    8.50    <1e-16\n",
              "PitchAccent       -0.247086   0.0803251  -3.08    0.0021\n",
              "SemanticFit        0.447363   0.152268    2.94    0.0033\n",
              "TransitivityBias  -0.208408   0.16072    -1.30    0.1947\n",
              "────────────────────────────────────────────────────────"
            ],
            "text/markdown": "|                  |    Est. |     SE |     z |      p | σ_Subject | σ_Item |\n|:---------------- | -------:| ------:| -----:| ------:| ---------:| ------:|\n| (Intercept)      |  1.7390 | 0.2046 |  8.50 | <1e-16 |    0.9881 | 0.6518 |\n| PitchAccent      | -0.2471 | 0.0803 | -3.08 | 0.0021 |    0.2220 |        |\n| SemanticFit      |  0.4474 | 0.1523 |  2.94 | 0.0033 |           |        |\n| TransitivityBias | -0.2084 | 0.1607 | -1.30 | 0.1947 |           |        |\n",
            "text/latex": "\\begin{tabular}\n{l | r | r | r | r | r | r}\n & Est. & SE & z & p & $\\sigma_\\text{Subject}$ & $\\sigma_\\text{Item}$ \\\\\n\\hline\n(Intercept) & 1.7390 & 0.2046 & 8.50 & <1e-16 & 0.9881 & 0.6518 \\\\\nPitchAccent & -0.2471 & 0.0803 & -3.08 & 0.0021 & 0.2220 &   \\\\\nSemanticFit & 0.4474 & 0.1523 & 2.94 & 0.0033 &   &   \\\\\nTransitivityBias & -0.2084 & 0.1607 & -1.30 & 0.1947 &   &   \\\\\n\\end{tabular}\n"
          },
          "metadata": {},
          "execution_count": 14
        }
      ]
    },
    {
      "cell_type": "code",
      "source": [
        "VarCorr(model_final)"
      ],
      "metadata": {
        "id": "wML4xbuTADW5",
        "colab": {
          "base_uri": "https://localhost:8080/",
          "height": 143
        },
        "outputId": "b2f91121-3185-4f2d-ba6f-b67ca07dd16c"
      },
      "execution_count": null,
      "outputs": [
        {
          "output_type": "execute_result",
          "data": {
            "text/plain": [
              "Variance components:\n",
              "           Column   Variance Std.Dev.   Corr.\n",
              "Subject (Intercept)  0.976389 0.988124\n",
              "        PitchAccent  0.049276 0.221982 -0.61\n",
              "Item    (Intercept)  0.424883 0.651831\n",
              "\n"
            ],
            "text/markdown": "|         | Column      |  Variance |  Std.Dev | Corr. |\n|:------- |:----------- | ---------:| --------:| -----:|\n| Subject | (Intercept) |  0.976389 | 0.988124 |       |\n|         | PitchAccent |  0.049276 | 0.221982 | -0.61 |\n| Item    | (Intercept) |  0.424883 | 0.651831 |       |\n",
            "text/latex": "\\begin{tabular}\n{l | l | r | r | r}\n  & Column &  Variance & Std.Dev & Corr. \\\\\n\\hline\nSubject & (Intercept) & 0.976389 & 0.988124 &   \\\\\n  & PitchAccent & 0.049276 & 0.221982 & -0.61 \\\\\nItem & (Intercept) & 0.424883 & 0.651831 &   \\\\\n\\end{tabular}\n"
          },
          "metadata": {},
          "execution_count": 15
        }
      ]
    },
    {
      "cell_type": "code",
      "source": [
        "issingular(model_final)"
      ],
      "metadata": {
        "id": "8TB9fnEftWXS",
        "colab": {
          "base_uri": "https://localhost:8080/"
        },
        "outputId": "1ed81b7f-b46e-4141-ae6d-34a3f466fbe4"
      },
      "execution_count": null,
      "outputs": [
        {
          "output_type": "execute_result",
          "data": {
            "text/plain": [
              "false"
            ]
          },
          "metadata": {},
          "execution_count": 16
        }
      ]
    },
    {
      "cell_type": "markdown",
      "source": [
        "For fun, the more complex (two-way) **interaction model** that I wish I'd reported:"
      ],
      "metadata": {
        "id": "Bn75tJZktj1G"
      }
    },
    {
      "cell_type": "code",
      "source": [
        "@time model_interactions = fit(\n",
        "  MixedModel,\n",
        "  @formula(Accuracy ~ PitchAccent + SemanticFit + TransitivityBias +\n",
        "                      PitchAccent & SemanticFit +\n",
        "                      PitchAccent & TransitivityBias +\n",
        "                      SemanticFit & TransitivityBias +\n",
        "                      (1 + PitchAccent | Subject) +\n",
        "                      (1 | Item)),\n",
        "  speeded_comprehension,\n",
        "  Binomial();\n",
        "  progress=false\n",
        ")\n",
        "println(model_interactions)"
      ],
      "metadata": {
        "id": "WXyELdrxsDh1",
        "colab": {
          "base_uri": "https://localhost:8080/"
        },
        "outputId": "273bc250-fa94-4527-867f-12238f6e5a7b"
      },
      "execution_count": null,
      "outputs": [
        {
          "output_type": "stream",
          "name": "stdout",
          "text": [
            "  6.246394 seconds (4.62 M allocations: 293.772 MiB, 3.26% gc time, 82.89% compilation time)\n",
            "Generalized Linear Mixed Model fit by maximum likelihood (nAGQ = 1)\n",
            "  Accuracy ~ 1 + PitchAccent + SemanticFit + TransitivityBias + PitchAccent & SemanticFit + PitchAccent & TransitivityBias + SemanticFit & TransitivityBias + (1 + PitchAccent | Subject) + (1 | Item)\n",
            "  Distribution: Bernoulli{Float64}\n",
            "  Link: LogitLink()\n",
            "\n",
            "   logLik    deviance     AIC       AICc        BIC    \n",
            "  -630.5990  1261.1981  1283.1981  1283.3832  1341.1792\n",
            "\n",
            "Variance components:\n",
            "           Column   Variance Std.Dev.   Corr.\n",
            "Subject (Intercept)  0.969970 0.984871\n",
            "        PitchAccent  0.044832 0.211736 -0.54\n",
            "Item    (Intercept)  0.301111 0.548736\n",
            "\n",
            " Number of obs: 1438; levels of grouping factors: 61, 24\n",
            "\n",
            "Fixed-effects parameters:\n",
            "───────────────────────────────────────────────────────────────────────\n",
            "                                     Coef.  Std. Error      z  Pr(>|z|)\n",
            "───────────────────────────────────────────────────────────────────────\n",
            "(Intercept)                      1.69593     0.190539    8.90    <1e-18\n",
            "PitchAccent                     -0.232112    0.0816093  -2.84    0.0045\n",
            "SemanticFit                      0.46705     0.13587     3.44    0.0006\n",
            "TransitivityBias                -0.38118     0.155942   -2.44    0.0145\n",
            "PitchAccent & SemanticFit        0.0821715   0.0759493   1.08    0.2793\n",
            "PitchAccent & TransitivityBias  -0.0136647   0.0818795  -0.17    0.8675\n",
            "SemanticFit & TransitivityBias   0.433212    0.159801    2.71    0.0067\n",
            "───────────────────────────────────────────────────────────────────────\n"
          ]
        }
      ]
    },
    {
      "cell_type": "code",
      "source": [
        "issingular(model_interactions)"
      ],
      "metadata": {
        "id": "PTXw6wlD9Xy7",
        "colab": {
          "base_uri": "https://localhost:8080/"
        },
        "outputId": "f052cc11-6172-4665-970f-7c3580acbf92"
      },
      "execution_count": null,
      "outputs": [
        {
          "output_type": "execute_result",
          "data": {
            "text/plain": [
              "false"
            ]
          },
          "metadata": {},
          "execution_count": 18
        }
      ]
    },
    {
      "cell_type": "markdown",
      "source": [
        "Omnibus test on the nested models: adding two-way interactions significantly improve model fit:"
      ],
      "metadata": {
        "id": "emHWfFLo8j0N"
      }
    },
    {
      "cell_type": "code",
      "source": [
        "# Equivalent to R's `anova()`\n",
        "MixedModels.likelihoodratiotest(model_final, model_interactions)"
      ],
      "metadata": {
        "id": "n_oBTvnuutw4",
        "colab": {
          "base_uri": "https://localhost:8080/",
          "height": 146
        },
        "outputId": "2d9f2a40-b793-4234-d476-72fbed2f5257"
      },
      "execution_count": null,
      "outputs": [
        {
          "output_type": "execute_result",
          "data": {
            "text/plain": [
              "Model Formulae\n",
              "1: Accuracy ~ 1 + PitchAccent + SemanticFit + TransitivityBias + (1 + PitchAccent | Subject) + (1 | Item)\n",
              "2: Accuracy ~ 1 + PitchAccent + SemanticFit + TransitivityBias + PitchAccent & SemanticFit + PitchAccent & TransitivityBias + SemanticFit & TransitivityBias + (1 + PitchAccent | Subject) + (1 | Item)\n",
              "─────────────────────────────────────────────────\n",
              "     model-dof   deviance      χ²  χ²-dof  P(>χ²)\n",
              "─────────────────────────────────────────────────\n",
              "[1]          8  1269.2908                        \n",
              "[2]         11  1261.1981  8.0928       3  0.0441\n",
              "─────────────────────────────────────────────────"
            ],
            "text/markdown": "|                                                                                                                                                                                                        | model-dof | deviance |  χ² | χ²-dof | P(>χ²) |\n|:------------------------------------------------------------------------------------------------------------------------------------------------------------------------------------------------------ | ---------:| --------:| ---:| ------:|:------ |\n| Accuracy ~ 1 + PitchAccent + SemanticFit + TransitivityBias + (1 + PitchAccent \\| Subject) + (1 \\| Item)                                                                                               |         8 |     1269 |     |        |        |\n| Accuracy ~ 1 + PitchAccent + SemanticFit + TransitivityBias + PitchAccent & SemanticFit + PitchAccent & TransitivityBias + SemanticFit & TransitivityBias + (1 + PitchAccent \\| Subject) + (1 \\| Item) |        11 |     1261 |   8 |      3 | 0.0441 |\n",
            "text/latex": "\\begin{tabular}\n{l | r | r | r | r | l}\n & model-dof & deviance & $\\chi^2$ & $\\chi^2$-dof & P(>$\\chi^2$) \\\\\n\\hline\nAccuracy {\\textasciitilde} 1 + PitchAccent + SemanticFit + TransitivityBias + (1 + PitchAccent | Subject) + (1 | Item) & 8 & 1269 &   &   &   \\\\\nAccuracy {\\textasciitilde} 1 + PitchAccent + SemanticFit + TransitivityBias + PitchAccent \\& SemanticFit + PitchAccent \\& TransitivityBias + SemanticFit \\& TransitivityBias + (1 + PitchAccent | Subject) + (1 | Item) & 11 & 1261 & 8 & 3 & 0.0441 \\\\\n\\end{tabular}\n"
          },
          "metadata": {},
          "execution_count": 19
        }
      ]
    },
    {
      "cell_type": "markdown",
      "source": [
        "## 4e) Getting model from Julia to R\n",
        "\n",
        "Assume that we're satisfied with our model, `model_final`. How do we do more with it outside of Julia?\n",
        "\n",
        "Admittedly, it's a bit difficult to transfer *models* back and forth because they have slightly different representations in R vs. Julia.\n",
        "\n",
        "But often times, we don't really care about the internal details of the model. Julia has utilities for [extracting](https://juliastats.org/MixedModels.jl/stable/constructors/#Extractor-functions) numbers off of models, which you can then write out to a csv to read back in R:"
      ],
      "metadata": {
        "id": "D4iZZ_9MztKx"
      }
    },
    {
      "cell_type": "code",
      "source": [
        "# `coeftable()` extracts fixed effects from the summary\n",
        "coef_table = coeftable(model_final);\n",
        "println(coef_table)"
      ],
      "metadata": {
        "id": "5-YcJ7zJ0OQi",
        "colab": {
          "base_uri": "https://localhost:8080/"
        },
        "outputId": "60d24715-3d3d-4157-cd03-7b24b4b64a19"
      },
      "execution_count": null,
      "outputs": [
        {
          "output_type": "stream",
          "name": "stdout",
          "text": [
            "────────────────────────────────────────────────────────\n",
            "                      Coef.  Std. Error      z  Pr(>|z|)\n",
            "────────────────────────────────────────────────────────\n",
            "(Intercept)        1.73901    0.204637    8.50    <1e-16\n",
            "PitchAccent       -0.247086   0.0803251  -3.08    0.0021\n",
            "SemanticFit        0.447363   0.152268    2.94    0.0033\n",
            "TransitivityBias  -0.208408   0.16072    -1.30    0.1947\n",
            "────────────────────────────────────────────────────────\n"
          ]
        }
      ]
    },
    {
      "cell_type": "code",
      "source": [
        "# This can be turned into tabular data\n",
        "using DataFrames\n",
        "coef_datatable = DataFrame(coef_table)\n",
        "println(coef_datatable)"
      ],
      "metadata": {
        "id": "oaU2xDWV0ZUO",
        "colab": {
          "base_uri": "https://localhost:8080/"
        },
        "outputId": "ba9556be-f703-4ecb-fd1a-4c89b6dccd08"
      },
      "execution_count": null,
      "outputs": [
        {
          "output_type": "stream",
          "name": "stdout",
          "text": [
            "\u001b[1m4×5 DataFrame\u001b[0m\n",
            "\u001b[1m Row \u001b[0m│\u001b[1m Name             \u001b[0m\u001b[1m Coef.     \u001b[0m\u001b[1m Std. Error \u001b[0m\u001b[1m z        \u001b[0m\u001b[1m Pr(>|z|)    \u001b[0m\n",
            "     │\u001b[90m String           \u001b[0m\u001b[90m Float64   \u001b[0m\u001b[90m Float64    \u001b[0m\u001b[90m Float64  \u001b[0m\u001b[90m Float64     \u001b[0m\n",
            "─────┼────────────────────────────────────────────────────────────────\n",
            "   1 │ (Intercept)        1.73901    0.204637    8.49802  1.92858e-17\n",
            "   2 │ PitchAccent       -0.247086   0.0803251  -3.07607  0.00209746\n",
            "   3 │ SemanticFit        0.447363   0.152268    2.93801  0.00330332\n",
            "   4 │ TransitivityBias  -0.208408   0.16072    -1.29672  0.194729\n"
          ]
        }
      ]
    },
    {
      "cell_type": "code",
      "source": [
        "# The tabular data can then be saved out to csv\n",
        "using CSV\n",
        "CSV.write(\"model_output.csv\", coef_datatable)"
      ],
      "metadata": {
        "id": "PyeyeT_cVuMq",
        "colab": {
          "base_uri": "https://localhost:8080/"
        },
        "outputId": "54272c6a-1e6e-41f0-96f3-8b53ebdc0a30"
      },
      "execution_count": null,
      "outputs": [
        {
          "output_type": "execute_result",
          "data": {
            "text/plain": [
              "\"model_output.csv\""
            ]
          },
          "metadata": {},
          "execution_count": 22
        }
      ]
    },
    {
      "cell_type": "markdown",
      "source": [
        "---\n",
        "\n",
        "In case we still *do* really care about getting the model *object* back in R, there are also ways of doing that too. It's not a full conversion, but you can do just enough reconstruction to support ex: [marginaleffects](https://marginaleffects.com/), [emmeans](https://github.com/rvlenth/emmeans), [lmerTest](https://cran.r-project.org/web/packages/lmerTest/index.html), [afex](https://cran.r-project.org/web/packages/afex/index.html), etc. back in R.\n",
        "\n",
        "Colab doesn't have the necessary infrastructure to support this, but this is the code for that (requires `JellyMe4` and `RCall` to be installed and set up in Julia). I'll demo this on my laptop in RStudio.\n",
        "\n",
        "In Julia:\n",
        "\n",
        "```julia\n",
        "# 1) Load packages\n",
        "using RCall\n",
        "using JellyMe4\n",
        "\n",
        "# 2) Send model/data over to R\n",
        "julia_model = (model, model_data)\n",
        "@rput julia_model\n",
        "\n",
        "# 3) Inspect/write model from linked R session (via RCall)\n",
        "R\"julia_model\"\n",
        "R\"saveRDS(julia_model, 'julia_model.rds')\"\n",
        "```\n",
        "\n",
        "In R:\n",
        "\n",
        "```r\n",
        "# 4) Read model in RStudio R session\n",
        "julia_model <- readRDS(\"julia_model.rds\")\n",
        "```"
      ],
      "metadata": {
        "id": "lOoixPolXYeR"
      }
    },
    {
      "cell_type": "markdown",
      "source": [
        "# Fin.\n",
        "\n",
        "We've come a long way and we're in good hands\n",
        "\n",
        "<img src=\"https://i.imgur.com/fbH6COS.png\" width=\"25%\">\n",
        "\n",
        "Acknowledgments:\n",
        "\n",
        "- [SMLP2023](https://vasishth.github.io/smlp2023/) workshop instructors: Phillip Alday, Douglass Bates, Reinhold Kliegl.\n",
        "\n",
        "- [MindCORE](https://mindcore.sas.upenn.edu/) for hosting/organizing this event and for the activity grant which allowed me to attend the above workshop."
      ],
      "metadata": {
        "id": "1C-O1Q0yCRAT"
      }
    },
    {
      "cell_type": "markdown",
      "source": [
        "# Further readings/resources\n",
        "\n",
        "- SMLP workshop materials: [SMLP2023: Advanced Methods in Frequentist Statistics with Julia](https://repsychling.github.io/SMLP2023/)\n",
        "\n",
        "- Book by the workshop instructors: [Embrace Uncertainty](https://embraceuncertaintybook.com/)\n",
        "\n",
        "- Documentation websites for [MixedModels.jl](https://juliastats.org/MixedModels.jl/stable/) and related packages:\n",
        "\n",
        "  - [MixedModelsSim.jl](https://repsychling.github.io/MixedModelsSim.jl/stable/): for simulation and power analysis\n",
        "  - [MixedModelsMakie.jl](https://palday.github.io/MixedModelsMakie.jl/dev/api/): for visualization\n",
        "  - [RCall](https://juliainterop.github.io/RCall.jl/stable/installation/): for running R in Julia\n",
        "  - [JellyMe4.jl](https://github.com/palday/JellyMe4.jl): for converting MixedModels.jl models to R lme4 models\n",
        "  - [Effects.jl](https://docs.juliahub.com/Effects/qason/0.1.1/): for predictions and post-hoc hypothesis tests\n",
        "\n",
        "- For learning Julia:\n",
        "\n",
        "  - Julia manual's [\"Noteworthy differences from R\"](https://docs.julialang.org/en/v1.9/manual/noteworthy-differences/#Noteworthy-differences-from-R)\n",
        "  - [Julia Data Science](https://juliadatascience.io/): The [R4DS book](https://r4ds.hadley.nz/) equivalent for Julia\n",
        "  - [Tidier.jl](https://github.com/TidierOrg/Tidier.jl): Implementation of the tidyverse in Julia\n"
      ],
      "metadata": {
        "id": "2f025yGMnLl1"
      }
    }
  ]
}